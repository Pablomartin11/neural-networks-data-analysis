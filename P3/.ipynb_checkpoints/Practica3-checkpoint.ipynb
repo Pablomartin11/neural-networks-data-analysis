{
 "cells": [
  {
   "cell_type": "markdown",
   "id": "1074bea3-898b-458b-b9b7-81931b19ed77",
   "metadata": {},
   "source": [
    "## **PRÁCTICA 3 - TAA**"
   ]
  },
  {
   "cell_type": "markdown",
   "id": "9bcb99c2-7340-4663-9ffe-a35dfda977cc",
   "metadata": {},
   "source": [
    "\n",
    "Pablo Martín de Benito"
   ]
  },
  {
   "cell_type": "markdown",
   "id": "4b36d55d-95b8-4ef6-a7d0-6cec8a8078d2",
   "metadata": {},
   "source": [
    "***"
   ]
  },
  {
   "cell_type": "markdown",
   "id": "457fdb7f-eac1-43a0-b049-86297c3bd461",
   "metadata": {},
   "source": [
    "### Parte 1"
   ]
  },
  {
   "cell_type": "code",
   "execution_count": 1,
   "id": "e5a74448-224d-4878-8fec-f6580665e5b1",
   "metadata": {
    "tags": []
   },
   "outputs": [],
   "source": [
    "import pandas as pd\n",
    "import numpy as np\n",
    "from scipy.stats import entropy\n",
    "import six\n",
    "import sys\n",
    "sys.modules['sklearn.externals.six'] = six\n",
    "# Estos tres modulos son imprescindibles para el ID3\n",
    "from id3 import Id3Estimator, export_graphviz"
   ]
  },
  {
   "cell_type": "code",
   "execution_count": 2,
   "id": "2d852618-2827-4934-946d-1dacec604504",
   "metadata": {
    "tags": []
   },
   "outputs": [
    {
     "data": {
      "text/html": [
       "<div>\n",
       "<style scoped>\n",
       "    .dataframe tbody tr th:only-of-type {\n",
       "        vertical-align: middle;\n",
       "    }\n",
       "\n",
       "    .dataframe tbody tr th {\n",
       "        vertical-align: top;\n",
       "    }\n",
       "\n",
       "    .dataframe thead th {\n",
       "        text-align: right;\n",
       "    }\n",
       "</style>\n",
       "<table border=\"1\" class=\"dataframe\">\n",
       "  <thead>\n",
       "    <tr style=\"text-align: right;\">\n",
       "      <th></th>\n",
       "      <th>Presion</th>\n",
       "      <th>Clase</th>\n",
       "    </tr>\n",
       "  </thead>\n",
       "  <tbody>\n",
       "    <tr>\n",
       "      <th>0</th>\n",
       "      <td>40</td>\n",
       "      <td>+</td>\n",
       "    </tr>\n",
       "    <tr>\n",
       "      <th>1</th>\n",
       "      <td>48</td>\n",
       "      <td>+</td>\n",
       "    </tr>\n",
       "    <tr>\n",
       "      <th>2</th>\n",
       "      <td>60</td>\n",
       "      <td>-</td>\n",
       "    </tr>\n",
       "    <tr>\n",
       "      <th>3</th>\n",
       "      <td>72</td>\n",
       "      <td>-</td>\n",
       "    </tr>\n",
       "    <tr>\n",
       "      <th>4</th>\n",
       "      <td>80</td>\n",
       "      <td>-</td>\n",
       "    </tr>\n",
       "    <tr>\n",
       "      <th>5</th>\n",
       "      <td>90</td>\n",
       "      <td>+</td>\n",
       "    </tr>\n",
       "  </tbody>\n",
       "</table>\n",
       "</div>"
      ],
      "text/plain": [
       "   Presion Clase\n",
       "0       40     +\n",
       "1       48     +\n",
       "2       60     -\n",
       "3       72     -\n",
       "4       80     -\n",
       "5       90     +"
      ]
     },
     "execution_count": 2,
     "metadata": {},
     "output_type": "execute_result"
    }
   ],
   "source": [
    "tabla = pd.DataFrame(columns=['Presion','Clase'],index=np.arange(6))\n",
    "tabla.Presion = [40,48,60,72,80,90]\n",
    "tabla.Clase = ['+','+','-','-','-','+']\n",
    "tabla"
   ]
  },
  {
   "cell_type": "code",
   "execution_count": 3,
   "id": "118a8075-5dce-44ef-84d9-cc9278adfc2e",
   "metadata": {
    "tags": []
   },
   "outputs": [
    {
     "data": {
      "text/plain": [
       "Clase\n",
       "+    0.5\n",
       "-    0.5\n",
       "Name: proportion, dtype: float64"
      ]
     },
     "execution_count": 3,
     "metadata": {},
     "output_type": "execute_result"
    }
   ],
   "source": [
    "tabla.Clase.value_counts(normalize=True)"
   ]
  },
  {
   "cell_type": "code",
   "execution_count": null,
   "id": "38cba49e-726b-453a-9591-c7f551e1df8c",
   "metadata": {
    "tags": []
   },
   "outputs": [],
   "source": []
  },
  {
   "cell_type": "code",
   "execution_count": 4,
   "id": "43f2fb80-c647-4838-be19-5dde0ced9e81",
   "metadata": {
    "tags": []
   },
   "outputs": [
    {
     "data": {
      "text/html": [
       "<div>\n",
       "<style scoped>\n",
       "    .dataframe tbody tr th:only-of-type {\n",
       "        vertical-align: middle;\n",
       "    }\n",
       "\n",
       "    .dataframe tbody tr th {\n",
       "        vertical-align: top;\n",
       "    }\n",
       "\n",
       "    .dataframe thead th {\n",
       "        text-align: right;\n",
       "    }\n",
       "</style>\n",
       "<table border=\"1\" class=\"dataframe\">\n",
       "  <thead>\n",
       "    <tr style=\"text-align: right;\">\n",
       "      <th></th>\n",
       "      <th>Presion</th>\n",
       "      <th>Clase</th>\n",
       "    </tr>\n",
       "  </thead>\n",
       "  <tbody>\n",
       "    <tr>\n",
       "      <th>0</th>\n",
       "      <td>0</td>\n",
       "      <td>+</td>\n",
       "    </tr>\n",
       "    <tr>\n",
       "      <th>1</th>\n",
       "      <td>0</td>\n",
       "      <td>+</td>\n",
       "    </tr>\n",
       "    <tr>\n",
       "      <th>2</th>\n",
       "      <td>1</td>\n",
       "      <td>-</td>\n",
       "    </tr>\n",
       "    <tr>\n",
       "      <th>3</th>\n",
       "      <td>1</td>\n",
       "      <td>-</td>\n",
       "    </tr>\n",
       "    <tr>\n",
       "      <th>4</th>\n",
       "      <td>1</td>\n",
       "      <td>-</td>\n",
       "    </tr>\n",
       "    <tr>\n",
       "      <th>5</th>\n",
       "      <td>1</td>\n",
       "      <td>+</td>\n",
       "    </tr>\n",
       "  </tbody>\n",
       "</table>\n",
       "</div>"
      ],
      "text/plain": [
       "   Presion Clase\n",
       "0        0     +\n",
       "1        0     +\n",
       "2        1     -\n",
       "3        1     -\n",
       "4        1     -\n",
       "5        1     +"
      ]
     },
     "execution_count": 4,
     "metadata": {},
     "output_type": "execute_result"
    }
   ],
   "source": [
    "# No se puede copiar como si fueran variables tabla_nueva = tabla_antigua\n",
    "tabla1 = tabla.copy()\n",
    "tabla1.Presion = np.digitize(tabla.Presion, bins=[(48+60)/2])   # bins  ->  Conjunto de cotas a partir del cual se establecen los primeros tramos\n",
    "tabla1"
   ]
  },
  {
   "cell_type": "code",
   "execution_count": 5,
   "id": "b27632b3-597c-4e26-9a3d-e9cdad296a39",
   "metadata": {
    "tags": []
   },
   "outputs": [
    {
     "data": {
      "text/plain": [
       "0.4591479170272448"
      ]
     },
     "execution_count": 5,
     "metadata": {},
     "output_type": "execute_result"
    }
   ],
   "source": [
    "H = entropy(tabla1.iloc[:,-1].value_counts(normalize=True), base=2)\n",
    "\n",
    "l1 = len(tabla1)\n",
    "G1 = H\n",
    "for v in tabla1.Presion.unique():\n",
    "    Class1 = tabla1.loc[tabla1.Presion == v]\n",
    "    # print(table)\n",
    "    G1 -= (len(Class1)/l1)*entropy(Class1.iloc[:,-1].value_counts(normalize=True), base =2)\n",
    "G1"
   ]
  },
  {
   "cell_type": "code",
   "execution_count": 6,
   "id": "c17e0c86-b2c5-4514-85d3-58c7798c1fea",
   "metadata": {
    "tags": []
   },
   "outputs": [
    {
     "data": {
      "text/html": [
       "<div>\n",
       "<style scoped>\n",
       "    .dataframe tbody tr th:only-of-type {\n",
       "        vertical-align: middle;\n",
       "    }\n",
       "\n",
       "    .dataframe tbody tr th {\n",
       "        vertical-align: top;\n",
       "    }\n",
       "\n",
       "    .dataframe thead th {\n",
       "        text-align: right;\n",
       "    }\n",
       "</style>\n",
       "<table border=\"1\" class=\"dataframe\">\n",
       "  <thead>\n",
       "    <tr style=\"text-align: right;\">\n",
       "      <th></th>\n",
       "      <th>Presion</th>\n",
       "      <th>Clase</th>\n",
       "    </tr>\n",
       "  </thead>\n",
       "  <tbody>\n",
       "    <tr>\n",
       "      <th>0</th>\n",
       "      <td>40</td>\n",
       "      <td>+</td>\n",
       "    </tr>\n",
       "    <tr>\n",
       "      <th>1</th>\n",
       "      <td>48</td>\n",
       "      <td>+</td>\n",
       "    </tr>\n",
       "    <tr>\n",
       "      <th>2</th>\n",
       "      <td>60</td>\n",
       "      <td>-</td>\n",
       "    </tr>\n",
       "    <tr>\n",
       "      <th>3</th>\n",
       "      <td>72</td>\n",
       "      <td>-</td>\n",
       "    </tr>\n",
       "    <tr>\n",
       "      <th>4</th>\n",
       "      <td>80</td>\n",
       "      <td>-</td>\n",
       "    </tr>\n",
       "    <tr>\n",
       "      <th>5</th>\n",
       "      <td>90</td>\n",
       "      <td>+</td>\n",
       "    </tr>\n",
       "  </tbody>\n",
       "</table>\n",
       "</div>"
      ],
      "text/plain": [
       "   Presion Clase\n",
       "0       40     +\n",
       "1       48     +\n",
       "2       60     -\n",
       "3       72     -\n",
       "4       80     -\n",
       "5       90     +"
      ]
     },
     "execution_count": 6,
     "metadata": {},
     "output_type": "execute_result"
    }
   ],
   "source": [
    "tabla2 = tabla.copy()\n",
    "tabla.Presion = np.digitize(tabla.Presion, bins=[(80+90)/2])\n",
    "tabla2\n"
   ]
  },
  {
   "cell_type": "code",
   "execution_count": 7,
   "id": "8532c831-39de-4fce-aac5-8696d3ab01b1",
   "metadata": {
    "tags": []
   },
   "outputs": [
    {
     "data": {
      "text/plain": [
       "1.0"
      ]
     },
     "execution_count": 7,
     "metadata": {},
     "output_type": "execute_result"
    }
   ],
   "source": [
    "l2 = len(tabla2)\n",
    "G2 = H\n",
    "for v in tabla2.Presion.unique():\n",
    "    Class2 = tabla2.loc[tabla2.Presion == v]\n",
    "    # print(table)\n",
    "    G2 -= (len(Class2)/l2)*entropy(Class2.iloc[:,-1].value_counts(normalize=True), base =2)\n",
    "G2"
   ]
  },
  {
   "cell_type": "code",
   "execution_count": 8,
   "id": "4d70a3c6-076f-4886-aa54-731137ec2257",
   "metadata": {
    "tags": []
   },
   "outputs": [],
   "source": [
    "from sklearn.tree import DecisionTreeClassifier, export_graphviz, plot_tree, export_text"
   ]
  },
  {
   "cell_type": "code",
   "execution_count": 9,
   "id": "8373417d-7d19-4258-b87c-053db122eb8e",
   "metadata": {
    "tags": []
   },
   "outputs": [],
   "source": [
    "clf = DecisionTreeClassifier(criterion='entropy', max_leaf_nodes = 2)"
   ]
  },
  {
   "cell_type": "code",
   "execution_count": 10,
   "id": "d9377d3c-9ab4-482a-89db-3338ce92416e",
   "metadata": {
    "tags": []
   },
   "outputs": [
    {
     "data": {
      "text/html": [
       "<style>#sk-container-id-1 {color: black;}#sk-container-id-1 pre{padding: 0;}#sk-container-id-1 div.sk-toggleable {background-color: white;}#sk-container-id-1 label.sk-toggleable__label {cursor: pointer;display: block;width: 100%;margin-bottom: 0;padding: 0.3em;box-sizing: border-box;text-align: center;}#sk-container-id-1 label.sk-toggleable__label-arrow:before {content: \"▸\";float: left;margin-right: 0.25em;color: #696969;}#sk-container-id-1 label.sk-toggleable__label-arrow:hover:before {color: black;}#sk-container-id-1 div.sk-estimator:hover label.sk-toggleable__label-arrow:before {color: black;}#sk-container-id-1 div.sk-toggleable__content {max-height: 0;max-width: 0;overflow: hidden;text-align: left;background-color: #f0f8ff;}#sk-container-id-1 div.sk-toggleable__content pre {margin: 0.2em;color: black;border-radius: 0.25em;background-color: #f0f8ff;}#sk-container-id-1 input.sk-toggleable__control:checked~div.sk-toggleable__content {max-height: 200px;max-width: 100%;overflow: auto;}#sk-container-id-1 input.sk-toggleable__control:checked~label.sk-toggleable__label-arrow:before {content: \"▾\";}#sk-container-id-1 div.sk-estimator input.sk-toggleable__control:checked~label.sk-toggleable__label {background-color: #d4ebff;}#sk-container-id-1 div.sk-label input.sk-toggleable__control:checked~label.sk-toggleable__label {background-color: #d4ebff;}#sk-container-id-1 input.sk-hidden--visually {border: 0;clip: rect(1px 1px 1px 1px);clip: rect(1px, 1px, 1px, 1px);height: 1px;margin: -1px;overflow: hidden;padding: 0;position: absolute;width: 1px;}#sk-container-id-1 div.sk-estimator {font-family: monospace;background-color: #f0f8ff;border: 1px dotted black;border-radius: 0.25em;box-sizing: border-box;margin-bottom: 0.5em;}#sk-container-id-1 div.sk-estimator:hover {background-color: #d4ebff;}#sk-container-id-1 div.sk-parallel-item::after {content: \"\";width: 100%;border-bottom: 1px solid gray;flex-grow: 1;}#sk-container-id-1 div.sk-label:hover label.sk-toggleable__label {background-color: #d4ebff;}#sk-container-id-1 div.sk-serial::before {content: \"\";position: absolute;border-left: 1px solid gray;box-sizing: border-box;top: 0;bottom: 0;left: 50%;z-index: 0;}#sk-container-id-1 div.sk-serial {display: flex;flex-direction: column;align-items: center;background-color: white;padding-right: 0.2em;padding-left: 0.2em;position: relative;}#sk-container-id-1 div.sk-item {position: relative;z-index: 1;}#sk-container-id-1 div.sk-parallel {display: flex;align-items: stretch;justify-content: center;background-color: white;position: relative;}#sk-container-id-1 div.sk-item::before, #sk-container-id-1 div.sk-parallel-item::before {content: \"\";position: absolute;border-left: 1px solid gray;box-sizing: border-box;top: 0;bottom: 0;left: 50%;z-index: -1;}#sk-container-id-1 div.sk-parallel-item {display: flex;flex-direction: column;z-index: 1;position: relative;background-color: white;}#sk-container-id-1 div.sk-parallel-item:first-child::after {align-self: flex-end;width: 50%;}#sk-container-id-1 div.sk-parallel-item:last-child::after {align-self: flex-start;width: 50%;}#sk-container-id-1 div.sk-parallel-item:only-child::after {width: 0;}#sk-container-id-1 div.sk-dashed-wrapped {border: 1px dashed gray;margin: 0 0.4em 0.5em 0.4em;box-sizing: border-box;padding-bottom: 0.4em;background-color: white;}#sk-container-id-1 div.sk-label label {font-family: monospace;font-weight: bold;display: inline-block;line-height: 1.2em;}#sk-container-id-1 div.sk-label-container {text-align: center;}#sk-container-id-1 div.sk-container {/* jupyter's `normalize.less` sets `[hidden] { display: none; }` but bootstrap.min.css set `[hidden] { display: none !important; }` so we also need the `!important` here to be able to override the default hidden behavior on the sphinx rendered scikit-learn.org. See: https://github.com/scikit-learn/scikit-learn/issues/21755 */display: inline-block !important;position: relative;}#sk-container-id-1 div.sk-text-repr-fallback {display: none;}</style><div id=\"sk-container-id-1\" class=\"sk-top-container\"><div class=\"sk-text-repr-fallback\"><pre>DecisionTreeClassifier(criterion=&#x27;entropy&#x27;, max_leaf_nodes=2)</pre><b>In a Jupyter environment, please rerun this cell to show the HTML representation or trust the notebook. <br />On GitHub, the HTML representation is unable to render, please try loading this page with nbviewer.org.</b></div><div class=\"sk-container\" hidden><div class=\"sk-item\"><div class=\"sk-estimator sk-toggleable\"><input class=\"sk-toggleable__control sk-hidden--visually\" id=\"sk-estimator-id-1\" type=\"checkbox\" checked><label for=\"sk-estimator-id-1\" class=\"sk-toggleable__label sk-toggleable__label-arrow\">DecisionTreeClassifier</label><div class=\"sk-toggleable__content\"><pre>DecisionTreeClassifier(criterion=&#x27;entropy&#x27;, max_leaf_nodes=2)</pre></div></div></div></div></div>"
      ],
      "text/plain": [
       "DecisionTreeClassifier(criterion='entropy', max_leaf_nodes=2)"
      ]
     },
     "execution_count": 10,
     "metadata": {},
     "output_type": "execute_result"
    }
   ],
   "source": [
    "clf.fit(np.array(tabla.Presion).reshape(-1,1), tabla.Clase)"
   ]
  },
  {
   "cell_type": "code",
   "execution_count": 11,
   "id": "fd853fb5-fbed-4161-a0bd-47395ae3ebfd",
   "metadata": {
    "tags": []
   },
   "outputs": [
    {
     "name": "stdout",
     "output_type": "stream",
     "text": [
      "|--- Presion <= 0.50\n",
      "|   |--- class: -\n",
      "|--- Presion >  0.50\n",
      "|   |--- class: +\n",
      "\n"
     ]
    }
   ],
   "source": [
    "txt = export_text(clf, feature_names=['Presion'])\n",
    "print(txt)"
   ]
  },
  {
   "cell_type": "markdown",
   "id": "50224b50-66de-4365-88c3-4000a26ef863",
   "metadata": {},
   "source": [
    "***"
   ]
  },
  {
   "cell_type": "markdown",
   "id": "05baec97-fd49-4726-8733-8a94aa8cd5a6",
   "metadata": {},
   "source": [
    "### Parte 2\n"
   ]
  },
  {
   "cell_type": "code",
   "execution_count": 12,
   "id": "745f1ee1-2d21-4229-ac06-40788a1f2278",
   "metadata": {
    "tags": []
   },
   "outputs": [],
   "source": [
    "from ucimlrepo import fetch_ucirepo \n",
    "  \n",
    "# fetch dataset \n",
    "thoracic_surgery_data = fetch_ucirepo(id=277) \n",
    "  \n",
    "# data (as pandas dataframes) \n",
    "X = thoracic_surgery_data.data.features \n",
    "y = thoracic_surgery_data.data.targets \n",
    "  \n",
    "# metadata \n",
    "#print(thoracic_surgery_data.metadata) \n",
    "  \n",
    "# variable information \n",
    "#print(thoracic_surgery_data.variables) "
   ]
  },
  {
   "cell_type": "code",
   "execution_count": 13,
   "id": "f101aa1d-563d-4827-a911-0a7d99f8cfd7",
   "metadata": {
    "tags": []
   },
   "outputs": [
    {
     "data": {
      "text/plain": [
       "(470,)"
      ]
     },
     "execution_count": 13,
     "metadata": {},
     "output_type": "execute_result"
    }
   ],
   "source": [
    "y.iloc[:,0].values.shape"
   ]
  },
  {
   "cell_type": "code",
   "execution_count": 14,
   "id": "8ea950b0-19ef-41dc-9021-d7cb15b70ff9",
   "metadata": {
    "tags": []
   },
   "outputs": [
    {
     "data": {
      "text/plain": [
       "(470,)"
      ]
     },
     "execution_count": 14,
     "metadata": {},
     "output_type": "execute_result"
    }
   ],
   "source": [
    "np.array(y).reshape(-1,).shape"
   ]
  },
  {
   "cell_type": "code",
   "execution_count": 15,
   "id": "7ae66fce-98f9-435b-b33b-cd351d9ee3db",
   "metadata": {
    "tags": []
   },
   "outputs": [
    {
     "data": {
      "text/plain": [
       "'Risk1Yr'"
      ]
     },
     "execution_count": 15,
     "metadata": {},
     "output_type": "execute_result"
    }
   ],
   "source": [
    "y.columns[0]"
   ]
  },
  {
   "cell_type": "code",
   "execution_count": 26,
   "id": "7562ae1a-29b7-42fc-b79d-4731b2158676",
   "metadata": {
    "tags": []
   },
   "outputs": [
    {
     "data": {
      "text/html": [
       "<div>\n",
       "<style scoped>\n",
       "    .dataframe tbody tr th:only-of-type {\n",
       "        vertical-align: middle;\n",
       "    }\n",
       "\n",
       "    .dataframe tbody tr th {\n",
       "        vertical-align: top;\n",
       "    }\n",
       "\n",
       "    .dataframe thead th {\n",
       "        text-align: right;\n",
       "    }\n",
       "</style>\n",
       "<table border=\"1\" class=\"dataframe\">\n",
       "  <thead>\n",
       "    <tr style=\"text-align: right;\">\n",
       "      <th></th>\n",
       "      <th>DGN</th>\n",
       "      <th>PRE4</th>\n",
       "      <th>PRE5</th>\n",
       "      <th>PRE6</th>\n",
       "      <th>PRE7</th>\n",
       "      <th>PRE8</th>\n",
       "      <th>PRE9</th>\n",
       "      <th>PRE10</th>\n",
       "      <th>PRE11</th>\n",
       "      <th>PRE14</th>\n",
       "      <th>PRE17</th>\n",
       "      <th>PRE19</th>\n",
       "      <th>PRE25</th>\n",
       "      <th>PRE30</th>\n",
       "      <th>PRE32</th>\n",
       "      <th>AGE</th>\n",
       "      <th>Risk1Yr</th>\n",
       "    </tr>\n",
       "  </thead>\n",
       "  <tbody>\n",
       "    <tr>\n",
       "      <th>0</th>\n",
       "      <td>DGN2</td>\n",
       "      <td>2.88</td>\n",
       "      <td>2.16</td>\n",
       "      <td>PRZ1</td>\n",
       "      <td>F</td>\n",
       "      <td>F</td>\n",
       "      <td>F</td>\n",
       "      <td>T</td>\n",
       "      <td>T</td>\n",
       "      <td>OC14</td>\n",
       "      <td>F</td>\n",
       "      <td>F</td>\n",
       "      <td>F</td>\n",
       "      <td>T</td>\n",
       "      <td>F</td>\n",
       "      <td>60</td>\n",
       "      <td>F</td>\n",
       "    </tr>\n",
       "    <tr>\n",
       "      <th>1</th>\n",
       "      <td>DGN3</td>\n",
       "      <td>3.40</td>\n",
       "      <td>1.88</td>\n",
       "      <td>PRZ0</td>\n",
       "      <td>F</td>\n",
       "      <td>F</td>\n",
       "      <td>F</td>\n",
       "      <td>F</td>\n",
       "      <td>F</td>\n",
       "      <td>OC12</td>\n",
       "      <td>F</td>\n",
       "      <td>F</td>\n",
       "      <td>F</td>\n",
       "      <td>T</td>\n",
       "      <td>F</td>\n",
       "      <td>51</td>\n",
       "      <td>F</td>\n",
       "    </tr>\n",
       "    <tr>\n",
       "      <th>2</th>\n",
       "      <td>DGN3</td>\n",
       "      <td>2.76</td>\n",
       "      <td>2.08</td>\n",
       "      <td>PRZ1</td>\n",
       "      <td>F</td>\n",
       "      <td>F</td>\n",
       "      <td>F</td>\n",
       "      <td>T</td>\n",
       "      <td>F</td>\n",
       "      <td>OC11</td>\n",
       "      <td>F</td>\n",
       "      <td>F</td>\n",
       "      <td>F</td>\n",
       "      <td>T</td>\n",
       "      <td>F</td>\n",
       "      <td>59</td>\n",
       "      <td>F</td>\n",
       "    </tr>\n",
       "    <tr>\n",
       "      <th>3</th>\n",
       "      <td>DGN3</td>\n",
       "      <td>3.68</td>\n",
       "      <td>3.04</td>\n",
       "      <td>PRZ0</td>\n",
       "      <td>F</td>\n",
       "      <td>F</td>\n",
       "      <td>F</td>\n",
       "      <td>F</td>\n",
       "      <td>F</td>\n",
       "      <td>OC11</td>\n",
       "      <td>F</td>\n",
       "      <td>F</td>\n",
       "      <td>F</td>\n",
       "      <td>F</td>\n",
       "      <td>F</td>\n",
       "      <td>54</td>\n",
       "      <td>F</td>\n",
       "    </tr>\n",
       "    <tr>\n",
       "      <th>4</th>\n",
       "      <td>DGN3</td>\n",
       "      <td>2.44</td>\n",
       "      <td>0.96</td>\n",
       "      <td>PRZ2</td>\n",
       "      <td>F</td>\n",
       "      <td>T</td>\n",
       "      <td>F</td>\n",
       "      <td>T</td>\n",
       "      <td>T</td>\n",
       "      <td>OC11</td>\n",
       "      <td>F</td>\n",
       "      <td>F</td>\n",
       "      <td>F</td>\n",
       "      <td>T</td>\n",
       "      <td>F</td>\n",
       "      <td>73</td>\n",
       "      <td>T</td>\n",
       "    </tr>\n",
       "    <tr>\n",
       "      <th>...</th>\n",
       "      <td>...</td>\n",
       "      <td>...</td>\n",
       "      <td>...</td>\n",
       "      <td>...</td>\n",
       "      <td>...</td>\n",
       "      <td>...</td>\n",
       "      <td>...</td>\n",
       "      <td>...</td>\n",
       "      <td>...</td>\n",
       "      <td>...</td>\n",
       "      <td>...</td>\n",
       "      <td>...</td>\n",
       "      <td>...</td>\n",
       "      <td>...</td>\n",
       "      <td>...</td>\n",
       "      <td>...</td>\n",
       "      <td>...</td>\n",
       "    </tr>\n",
       "    <tr>\n",
       "      <th>465</th>\n",
       "      <td>DGN2</td>\n",
       "      <td>3.88</td>\n",
       "      <td>2.12</td>\n",
       "      <td>PRZ1</td>\n",
       "      <td>F</td>\n",
       "      <td>F</td>\n",
       "      <td>F</td>\n",
       "      <td>T</td>\n",
       "      <td>F</td>\n",
       "      <td>OC13</td>\n",
       "      <td>F</td>\n",
       "      <td>F</td>\n",
       "      <td>F</td>\n",
       "      <td>T</td>\n",
       "      <td>F</td>\n",
       "      <td>63</td>\n",
       "      <td>F</td>\n",
       "    </tr>\n",
       "    <tr>\n",
       "      <th>466</th>\n",
       "      <td>DGN3</td>\n",
       "      <td>3.76</td>\n",
       "      <td>3.12</td>\n",
       "      <td>PRZ0</td>\n",
       "      <td>F</td>\n",
       "      <td>F</td>\n",
       "      <td>F</td>\n",
       "      <td>F</td>\n",
       "      <td>F</td>\n",
       "      <td>OC11</td>\n",
       "      <td>F</td>\n",
       "      <td>F</td>\n",
       "      <td>F</td>\n",
       "      <td>T</td>\n",
       "      <td>F</td>\n",
       "      <td>61</td>\n",
       "      <td>F</td>\n",
       "    </tr>\n",
       "    <tr>\n",
       "      <th>467</th>\n",
       "      <td>DGN3</td>\n",
       "      <td>3.04</td>\n",
       "      <td>2.08</td>\n",
       "      <td>PRZ1</td>\n",
       "      <td>F</td>\n",
       "      <td>F</td>\n",
       "      <td>F</td>\n",
       "      <td>T</td>\n",
       "      <td>F</td>\n",
       "      <td>OC13</td>\n",
       "      <td>F</td>\n",
       "      <td>F</td>\n",
       "      <td>F</td>\n",
       "      <td>F</td>\n",
       "      <td>F</td>\n",
       "      <td>52</td>\n",
       "      <td>F</td>\n",
       "    </tr>\n",
       "    <tr>\n",
       "      <th>468</th>\n",
       "      <td>DGN3</td>\n",
       "      <td>1.96</td>\n",
       "      <td>1.68</td>\n",
       "      <td>PRZ1</td>\n",
       "      <td>F</td>\n",
       "      <td>F</td>\n",
       "      <td>F</td>\n",
       "      <td>T</td>\n",
       "      <td>T</td>\n",
       "      <td>OC12</td>\n",
       "      <td>F</td>\n",
       "      <td>F</td>\n",
       "      <td>F</td>\n",
       "      <td>T</td>\n",
       "      <td>F</td>\n",
       "      <td>79</td>\n",
       "      <td>F</td>\n",
       "    </tr>\n",
       "    <tr>\n",
       "      <th>469</th>\n",
       "      <td>DGN3</td>\n",
       "      <td>4.72</td>\n",
       "      <td>3.56</td>\n",
       "      <td>PRZ0</td>\n",
       "      <td>F</td>\n",
       "      <td>F</td>\n",
       "      <td>F</td>\n",
       "      <td>F</td>\n",
       "      <td>F</td>\n",
       "      <td>OC12</td>\n",
       "      <td>F</td>\n",
       "      <td>F</td>\n",
       "      <td>F</td>\n",
       "      <td>T</td>\n",
       "      <td>F</td>\n",
       "      <td>51</td>\n",
       "      <td>F</td>\n",
       "    </tr>\n",
       "  </tbody>\n",
       "</table>\n",
       "<p>470 rows × 17 columns</p>\n",
       "</div>"
      ],
      "text/plain": [
       "      DGN  PRE4  PRE5  PRE6 PRE7 PRE8 PRE9 PRE10 PRE11 PRE14 PRE17 PRE19  \\\n",
       "0    DGN2  2.88  2.16  PRZ1    F    F    F     T     T  OC14     F     F   \n",
       "1    DGN3  3.40  1.88  PRZ0    F    F    F     F     F  OC12     F     F   \n",
       "2    DGN3  2.76  2.08  PRZ1    F    F    F     T     F  OC11     F     F   \n",
       "3    DGN3  3.68  3.04  PRZ0    F    F    F     F     F  OC11     F     F   \n",
       "4    DGN3  2.44  0.96  PRZ2    F    T    F     T     T  OC11     F     F   \n",
       "..    ...   ...   ...   ...  ...  ...  ...   ...   ...   ...   ...   ...   \n",
       "465  DGN2  3.88  2.12  PRZ1    F    F    F     T     F  OC13     F     F   \n",
       "466  DGN3  3.76  3.12  PRZ0    F    F    F     F     F  OC11     F     F   \n",
       "467  DGN3  3.04  2.08  PRZ1    F    F    F     T     F  OC13     F     F   \n",
       "468  DGN3  1.96  1.68  PRZ1    F    F    F     T     T  OC12     F     F   \n",
       "469  DGN3  4.72  3.56  PRZ0    F    F    F     F     F  OC12     F     F   \n",
       "\n",
       "    PRE25 PRE30 PRE32  AGE Risk1Yr  \n",
       "0       F     T     F   60       F  \n",
       "1       F     T     F   51       F  \n",
       "2       F     T     F   59       F  \n",
       "3       F     F     F   54       F  \n",
       "4       F     T     F   73       T  \n",
       "..    ...   ...   ...  ...     ...  \n",
       "465     F     T     F   63       F  \n",
       "466     F     T     F   61       F  \n",
       "467     F     F     F   52       F  \n",
       "468     F     T     F   79       F  \n",
       "469     F     T     F   51       F  \n",
       "\n",
       "[470 rows x 17 columns]"
      ]
     },
     "execution_count": 26,
     "metadata": {},
     "output_type": "execute_result"
    }
   ],
   "source": [
    "tabla_csv = X.copy()\n",
    "tabla_csv.insert(loc=len(X.columns), column=y.columns[0], value=y)\n",
    "tabla_csv.to_csv(\"thoracic.csv\", index=False)\n",
    "tabla_csv"
   ]
  },
  {
   "cell_type": "code",
   "execution_count": 27,
   "id": "a8e28ca5-3870-48f1-b1ff-bf82471fb618",
   "metadata": {
    "tags": []
   },
   "outputs": [
    {
     "data": {
      "text/plain": [
       "'PRE9 = T\\n|   PRE11 = T: T (2.0)\\n|   PRE11 = F\\n|   |   PRE6 = PRZ2: T (2.0/1.0)\\n|   |   PRE6 = PRZ1\\n|   |   |   PRE10 = T\\n|   |   |   |   PRE7 = T: T (2.0/1.0)\\n|   |   |   |   PRE7 = F\\n|   |   |   |   |   PRE8 = T\\n|   |   |   |   |   |   DGN = DGN3: T (3.0/1.0)\\n|   |   |   |   |   |   DGN = DGN2: F (2.0)\\n|   |   |   |   |   |   DGN = DGN4: F (0.0)\\n|   |   |   |   |   |   DGN = DGN6: F (0.0)\\n|   |   |   |   |   |   DGN = DGN5: F (0.0)\\n|   |   |   |   |   |   DGN = DGN8: F (0.0)\\n|   |   |   |   |   |   DGN = DGN1: F (0.0)\\n|   |   |   |   |   PRE8 = F: F (11.0)\\n|   |   |   PRE10 = F: F (5.0)\\n|   |   PRE6 = PRZ0: T (4.0/1.0)\\nPRE9 = F\\n|   PRE17 = T\\n|   |   PRE8 = T: T (4.0/1.0)\\n|   |   PRE8 = F\\n|   |   |   AGE <= 65\\n|   |   |   |   PRE11 = T: T (3.0)\\n|   |   |   |   PRE11 = F\\n|   |   |   |   |   PRE14 = OC11: F (5.0)\\n|   |   |   |   |   PRE14 = OC14: T (1.0)\\n|   |   |   |   |   PRE14 = OC12\\n|   |   |   |   |   |   AGE <= 62: F (7.0/1.0)\\n|   |   |   |   |   |   AGE > 62: T (2.0)\\n|   |   |   |   |   PRE14 = OC13: F (0.0)\\n|   |   |   AGE > 65: F (12.0)\\n|   PRE17 = F\\n|   |   DGN = DGN3\\n|   |   |   PRE7 = T\\n|   |   |   |   PRE10 = T: F (13.0/2.0)\\n|   |   |   |   PRE10 = F\\n|   |   |   |   |   PRE14 = OC11: F (2.0)\\n|   |   |   |   |   PRE14 = OC14: T (1.0)\\n|   |   |   |   |   PRE14 = OC12: T (2.0)\\n|   |   |   |   |   PRE14 = OC13: T (0.0)\\n|   |   |   PRE7 = F\\n|   |   |   |   PRE14 = OC11: F (121.0/7.0)\\n|   |   |   |   PRE14 = OC14: F (7.0/3.0)\\n|   |   |   |   PRE14 = OC12\\n|   |   |   |   |   PRE30 = T\\n|   |   |   |   |   |   PRE10 = T\\n|   |   |   |   |   |   |   PRE6 = PRZ2: F (4.0)\\n|   |   |   |   |   |   |   PRE6 = PRZ1\\n|   |   |   |   |   |   |   |   PRE25 = T: F (2.0)\\n|   |   |   |   |   |   |   |   PRE25 = F\\n|   |   |   |   |   |   |   |   |   PRE11 = T: F (16.0/1.0)\\n|   |   |   |   |   |   |   |   |   PRE11 = F\\n|   |   |   |   |   |   |   |   |   |   PRE8 = T\\n|   |   |   |   |   |   |   |   |   |   |   PRE4 <= 2.88: T (3.0/1.0)\\n|   |   |   |   |   |   |   |   |   |   |   PRE4 > 2.88: F (4.0)\\n|   |   |   |   |   |   |   |   |   |   PRE8 = F: F (67.0/10.0)\\n|   |   |   |   |   |   |   PRE6 = PRZ0: F (2.0)\\n|   |   |   |   |   |   PRE10 = F: F (30.0/1.0)\\n|   |   |   |   |   PRE30 = F: F (22.0)\\n|   |   |   |   PRE14 = OC13: F (6.0/2.0)\\n|   |   DGN = DGN2\\n|   |   |   PRE30 = T\\n|   |   |   |   PRE10 = T\\n|   |   |   |   |   PRE6 = PRZ2: F (4.0/1.0)\\n|   |   |   |   |   PRE6 = PRZ1\\n|   |   |   |   |   |   PRE14 = OC11: F (5.0/1.0)\\n|   |   |   |   |   |   PRE14 = OC14: F (3.0)\\n|   |   |   |   |   |   PRE14 = OC12\\n|   |   |   |   |   |   |   PRE8 = T: F (6.0/1.0)\\n|   |   |   |   |   |   |   PRE8 = F: T (6.0/2.0)\\n|   |   |   |   |   |   PRE14 = OC13: F (2.0)\\n|   |   |   |   |   PRE6 = PRZ0: T (2.0)\\n|   |   |   |   PRE10 = F: F (10.0/1.0)\\n|   |   |   PRE30 = F: F (6.0)\\n|   |   DGN = DGN4\\n|   |   |   PRE11 = T\\n|   |   |   |   PRE4 <= 2.66: T (3.0/1.0)\\n|   |   |   |   PRE4 > 2.66: F (2.0)\\n|   |   |   PRE11 = F\\n|   |   |   |   PRE14 = OC11: F (10.0)\\n|   |   |   |   PRE14 = OC14: F (0.0)\\n|   |   |   |   PRE14 = OC12\\n|   |   |   |   |   PRE5 <= 2.04\\n|   |   |   |   |   |   AGE <= 70: T (3.0/1.0)\\n|   |   |   |   |   |   AGE > 70: F (2.0)\\n|   |   |   |   |   PRE5 > 2.04: F (19.0)\\n|   |   |   |   PRE14 = OC13: F (1.0)\\n|   |   DGN = DGN6: F (4.0)\\n|   |   DGN = DGN5\\n|   |   |   PRE8 = T: F (3.0)\\n|   |   |   PRE8 = F\\n|   |   |   |   PRE14 = OC11\\n|   |   |   |   |   PRE10 = T: T (2.0)\\n|   |   |   |   |   PRE10 = F: F (3.0/1.0)\\n|   |   |   |   PRE14 = OC14: T (0.0)\\n|   |   |   |   PRE14 = OC12: F (3.0/1.0)\\n|   |   |   |   PRE14 = OC13: T (1.0)\\n|   |   DGN = DGN8: T (2.0/1.0)\\n|   |   DGN = DGN1: F (1.0)'"
      ]
     },
     "execution_count": 27,
     "metadata": {},
     "output_type": "execute_result"
    }
   ],
   "source": [
    "f = open('thoracic_tree.txt')\n",
    "contenido = f.read()\n",
    "f.close()\n",
    "contenido\n",
    "# Para poder ver bien el contenido tenemos que ponerle print()"
   ]
  },
  {
   "cell_type": "code",
   "execution_count": 28,
   "id": "85883904-482c-4d28-9a1b-efb19a7bc705",
   "metadata": {
    "tags": []
   },
   "outputs": [
    {
     "name": "stdout",
     "output_type": "stream",
     "text": [
      "PRE9 = T\n",
      "|   PRE11 = T: T (2.0)\n",
      "|   PRE11 = F\n",
      "|   |   PRE6 = PRZ2: T (2.0/1.0)\n",
      "|   |   PRE6 = PRZ1\n",
      "|   |   |   PRE10 = T\n",
      "|   |   |   |   PRE7 = T: T (2.0/1.0)\n",
      "|   |   |   |   PRE7 = F\n",
      "|   |   |   |   |   PRE8 = T\n",
      "|   |   |   |   |   |   DGN = DGN3: T (3.0/1.0)\n",
      "|   |   |   |   |   |   DGN = DGN2: F (2.0)\n",
      "|   |   |   |   |   |   DGN = DGN4: F (0.0)\n",
      "|   |   |   |   |   |   DGN = DGN6: F (0.0)\n",
      "|   |   |   |   |   |   DGN = DGN5: F (0.0)\n",
      "|   |   |   |   |   |   DGN = DGN8: F (0.0)\n",
      "|   |   |   |   |   |   DGN = DGN1: F (0.0)\n",
      "|   |   |   |   |   PRE8 = F: F (11.0)\n",
      "|   |   |   PRE10 = F: F (5.0)\n",
      "|   |   PRE6 = PRZ0: T (4.0/1.0)\n",
      "PRE9 = F\n",
      "|   PRE17 = T\n",
      "|   |   PRE8 = T: T (4.0/1.0)\n",
      "|   |   PRE8 = F\n",
      "|   |   |   AGE <= 65\n",
      "|   |   |   |   PRE11 = T: T (3.0)\n",
      "|   |   |   |   PRE11 = F\n",
      "|   |   |   |   |   PRE14 = OC11: F (5.0)\n",
      "|   |   |   |   |   PRE14 = OC14: T (1.0)\n",
      "|   |   |   |   |   PRE14 = OC12\n",
      "|   |   |   |   |   |   AGE <= 62: F (7.0/1.0)\n",
      "|   |   |   |   |   |   AGE > 62: T (2.0)\n",
      "|   |   |   |   |   PRE14 = OC13: F (0.0)\n",
      "|   |   |   AGE > 65: F (12.0)\n",
      "|   PRE17 = F\n",
      "|   |   DGN = DGN3\n",
      "|   |   |   PRE7 = T\n",
      "|   |   |   |   PRE10 = T: F (13.0/2.0)\n",
      "|   |   |   |   PRE10 = F\n",
      "|   |   |   |   |   PRE14 = OC11: F (2.0)\n",
      "|   |   |   |   |   PRE14 = OC14: T (1.0)\n",
      "|   |   |   |   |   PRE14 = OC12: T (2.0)\n",
      "|   |   |   |   |   PRE14 = OC13: T (0.0)\n",
      "|   |   |   PRE7 = F\n",
      "|   |   |   |   PRE14 = OC11: F (121.0/7.0)\n",
      "|   |   |   |   PRE14 = OC14: F (7.0/3.0)\n",
      "|   |   |   |   PRE14 = OC12\n",
      "|   |   |   |   |   PRE30 = T\n",
      "|   |   |   |   |   |   PRE10 = T\n",
      "|   |   |   |   |   |   |   PRE6 = PRZ2: F (4.0)\n",
      "|   |   |   |   |   |   |   PRE6 = PRZ1\n",
      "|   |   |   |   |   |   |   |   PRE25 = T: F (2.0)\n",
      "|   |   |   |   |   |   |   |   PRE25 = F\n",
      "|   |   |   |   |   |   |   |   |   PRE11 = T: F (16.0/1.0)\n",
      "|   |   |   |   |   |   |   |   |   PRE11 = F\n",
      "|   |   |   |   |   |   |   |   |   |   PRE8 = T\n",
      "|   |   |   |   |   |   |   |   |   |   |   PRE4 <= 2.88: T (3.0/1.0)\n",
      "|   |   |   |   |   |   |   |   |   |   |   PRE4 > 2.88: F (4.0)\n",
      "|   |   |   |   |   |   |   |   |   |   PRE8 = F: F (67.0/10.0)\n",
      "|   |   |   |   |   |   |   PRE6 = PRZ0: F (2.0)\n",
      "|   |   |   |   |   |   PRE10 = F: F (30.0/1.0)\n",
      "|   |   |   |   |   PRE30 = F: F (22.0)\n",
      "|   |   |   |   PRE14 = OC13: F (6.0/2.0)\n",
      "|   |   DGN = DGN2\n",
      "|   |   |   PRE30 = T\n",
      "|   |   |   |   PRE10 = T\n",
      "|   |   |   |   |   PRE6 = PRZ2: F (4.0/1.0)\n",
      "|   |   |   |   |   PRE6 = PRZ1\n",
      "|   |   |   |   |   |   PRE14 = OC11: F (5.0/1.0)\n",
      "|   |   |   |   |   |   PRE14 = OC14: F (3.0)\n",
      "|   |   |   |   |   |   PRE14 = OC12\n",
      "|   |   |   |   |   |   |   PRE8 = T: F (6.0/1.0)\n",
      "|   |   |   |   |   |   |   PRE8 = F: T (6.0/2.0)\n",
      "|   |   |   |   |   |   PRE14 = OC13: F (2.0)\n",
      "|   |   |   |   |   PRE6 = PRZ0: T (2.0)\n",
      "|   |   |   |   PRE10 = F: F (10.0/1.0)\n",
      "|   |   |   PRE30 = F: F (6.0)\n",
      "|   |   DGN = DGN4\n",
      "|   |   |   PRE11 = T\n",
      "|   |   |   |   PRE4 <= 2.66: T (3.0/1.0)\n",
      "|   |   |   |   PRE4 > 2.66: F (2.0)\n",
      "|   |   |   PRE11 = F\n",
      "|   |   |   |   PRE14 = OC11: F (10.0)\n",
      "|   |   |   |   PRE14 = OC14: F (0.0)\n",
      "|   |   |   |   PRE14 = OC12\n",
      "|   |   |   |   |   PRE5 <= 2.04\n",
      "|   |   |   |   |   |   AGE <= 70: T (3.0/1.0)\n",
      "|   |   |   |   |   |   AGE > 70: F (2.0)\n",
      "|   |   |   |   |   PRE5 > 2.04: F (19.0)\n",
      "|   |   |   |   PRE14 = OC13: F (1.0)\n",
      "|   |   DGN = DGN6: F (4.0)\n",
      "|   |   DGN = DGN5\n",
      "|   |   |   PRE8 = T: F (3.0)\n",
      "|   |   |   PRE8 = F\n",
      "|   |   |   |   PRE14 = OC11\n",
      "|   |   |   |   |   PRE10 = T: T (2.0)\n",
      "|   |   |   |   |   PRE10 = F: F (3.0/1.0)\n",
      "|   |   |   |   PRE14 = OC14: T (0.0)\n",
      "|   |   |   |   PRE14 = OC12: F (3.0/1.0)\n",
      "|   |   |   |   PRE14 = OC13: T (1.0)\n",
      "|   |   DGN = DGN8: T (2.0/1.0)\n",
      "|   |   DGN = DGN1: F (1.0)\n"
     ]
    }
   ],
   "source": [
    "print(contenido)"
   ]
  },
  {
   "cell_type": "markdown",
   "id": "6a25a564-9d32-4437-8b73-9debe41d00bb",
   "metadata": {},
   "source": [
    "Correctly Classified Instances         120               75      %\n",
    "\n",
    "Incorrectly Classified Instances        40               25      %\n"
   ]
  },
  {
   "cell_type": "markdown",
   "id": "e5e0bae2-5f6b-4907-953a-0bd8c32d9124",
   "metadata": {},
   "source": [
    "### Ver si alguno de los atributos no se usa\n"
   ]
  },
  {
   "cell_type": "code",
   "execution_count": 29,
   "id": "f3d7eac2-430f-4788-b52f-bccd5cf58140",
   "metadata": {
    "tags": []
   },
   "outputs": [
    {
     "data": {
      "text/plain": [
       "['PRE19', 'PRE32']"
      ]
     },
     "execution_count": 29,
     "metadata": {},
     "output_type": "execute_result"
    }
   ],
   "source": [
    "no_usado = []\n",
    "for atr in tabla_csv.columns[:-1]:\n",
    "    if contenido.find(atr) == -1:\n",
    "        no_usado.append(atr)\n",
    "no_usado"
   ]
  },
  {
   "cell_type": "code",
   "execution_count": 30,
   "id": "4bc76c67-51d0-4603-9162-df54a9088d5f",
   "metadata": {},
   "outputs": [],
   "source": [
    "tabla_csv.drop(labels=no_usado, axis=1, inplace=True) # axis=1 por columnas\n",
    "# inplace = True  ->  Si no ponemos el inplace, no hace el borrado, lo hace en la primera impresion pero no en realidad, si lo vuelves a imprimir no lo ha borrado.\n"
   ]
  },
  {
   "cell_type": "code",
   "execution_count": 31,
   "id": "62a3e2b3-f5b2-435d-8c6b-926df8953022",
   "metadata": {
    "tags": []
   },
   "outputs": [],
   "source": [
    "tabla_csv.to_csv('ThoracicSurgery_filtrado_atributos.csv', index = False)"
   ]
  },
  {
   "cell_type": "code",
   "execution_count": 32,
   "id": "ae9cbd2d-a635-423a-824e-3f1ba2dcd25e",
   "metadata": {
    "tags": []
   },
   "outputs": [],
   "source": [
    "Atrib_Num = list(tabla_csv._get_numeric_data().columns)"
   ]
  },
  {
   "cell_type": "markdown",
   "id": "75d04da0-83d2-460e-b031-d2ca1d221c42",
   "metadata": {},
   "source": [
    "### Discretización de los atributos numéricos: ['PRE4','PRE5',''AGE]"
   ]
  },
  {
   "cell_type": "code",
   "execution_count": 37,
   "id": "68e0c830-eea9-42c7-8a75-6fe6f576f682",
   "metadata": {
    "tags": []
   },
   "outputs": [
    {
     "name": "stdout",
     "output_type": "stream",
     "text": [
      "2.88\n",
      "2.66\n",
      "PRE4 [2.66, 2.88]\n"
     ]
    },
    {
     "ename": "TypeError",
     "evalue": "'<' not supported between instances of 'float' and 'str'",
     "output_type": "error",
     "traceback": [
      "\u001b[0;31m---------------------------------------------------------------------------\u001b[0m",
      "\u001b[0;31mTypeError\u001b[0m                                 Traceback (most recent call last)",
      "File \u001b[0;32m~/anaconda3/lib/python3.11/site-packages/numpy/core/fromnumeric.py:57\u001b[0m, in \u001b[0;36m_wrapfunc\u001b[0;34m(obj, method, *args, **kwds)\u001b[0m\n\u001b[1;32m     56\u001b[0m \u001b[38;5;28;01mtry\u001b[39;00m:\n\u001b[0;32m---> 57\u001b[0m     \u001b[38;5;28;01mreturn\u001b[39;00m bound(\u001b[38;5;241m*\u001b[39margs, \u001b[38;5;241m*\u001b[39m\u001b[38;5;241m*\u001b[39mkwds)\n\u001b[1;32m     58\u001b[0m \u001b[38;5;28;01mexcept\u001b[39;00m \u001b[38;5;167;01mTypeError\u001b[39;00m:\n\u001b[1;32m     59\u001b[0m     \u001b[38;5;66;03m# A TypeError occurs if the object does have such a method in its\u001b[39;00m\n\u001b[1;32m     60\u001b[0m     \u001b[38;5;66;03m# class, but its signature is not identical to that of NumPy's. This\u001b[39;00m\n\u001b[0;32m   (...)\u001b[0m\n\u001b[1;32m     64\u001b[0m     \u001b[38;5;66;03m# Call _wrapit from within the except clause to ensure a potential\u001b[39;00m\n\u001b[1;32m     65\u001b[0m     \u001b[38;5;66;03m# exception has a traceback chain.\u001b[39;00m\n",
      "\u001b[0;31mTypeError\u001b[0m: '<' not supported between instances of 'float' and 'str'",
      "\nDuring handling of the above exception, another exception occurred:\n",
      "\u001b[0;31mTypeError\u001b[0m                                 Traceback (most recent call last)",
      "Cell \u001b[0;32mIn[37], line 14\u001b[0m\n\u001b[1;32m     12\u001b[0m c\u001b[38;5;241m.\u001b[39msort(key\u001b[38;5;241m=\u001b[39m\u001b[38;5;28mfloat\u001b[39m)\n\u001b[1;32m     13\u001b[0m \u001b[38;5;28mprint\u001b[39m(atributo,c)\n\u001b[0;32m---> 14\u001b[0m tabla_csv[atributo] \u001b[38;5;241m=\u001b[39m [\u001b[38;5;28mchr\u001b[39m(\u001b[38;5;241m65\u001b[39m\u001b[38;5;241m+\u001b[39mi) \u001b[38;5;28;01mfor\u001b[39;00m i \u001b[38;5;129;01min\u001b[39;00m np\u001b[38;5;241m.\u001b[39mdigitize(tabla_csv[atributo], bins\u001b[38;5;241m=\u001b[39mc)]\n",
      "File \u001b[0;32m<__array_function__ internals>:200\u001b[0m, in \u001b[0;36mdigitize\u001b[0;34m(*args, **kwargs)\u001b[0m\n",
      "File \u001b[0;32m~/anaconda3/lib/python3.11/site-packages/numpy/lib/function_base.py:5614\u001b[0m, in \u001b[0;36mdigitize\u001b[0;34m(x, bins, right)\u001b[0m\n\u001b[1;32m   5612\u001b[0m     \u001b[38;5;28;01mreturn\u001b[39;00m \u001b[38;5;28mlen\u001b[39m(bins) \u001b[38;5;241m-\u001b[39m _nx\u001b[38;5;241m.\u001b[39msearchsorted(bins[::\u001b[38;5;241m-\u001b[39m\u001b[38;5;241m1\u001b[39m], x, side\u001b[38;5;241m=\u001b[39mside)\n\u001b[1;32m   5613\u001b[0m \u001b[38;5;28;01melse\u001b[39;00m:\n\u001b[0;32m-> 5614\u001b[0m     \u001b[38;5;28;01mreturn\u001b[39;00m _nx\u001b[38;5;241m.\u001b[39msearchsorted(bins, x, side\u001b[38;5;241m=\u001b[39mside)\n",
      "File \u001b[0;32m<__array_function__ internals>:200\u001b[0m, in \u001b[0;36msearchsorted\u001b[0;34m(*args, **kwargs)\u001b[0m\n",
      "File \u001b[0;32m~/anaconda3/lib/python3.11/site-packages/numpy/core/fromnumeric.py:1413\u001b[0m, in \u001b[0;36msearchsorted\u001b[0;34m(a, v, side, sorter)\u001b[0m\n\u001b[1;32m   1345\u001b[0m \u001b[38;5;129m@array_function_dispatch\u001b[39m(_searchsorted_dispatcher)\n\u001b[1;32m   1346\u001b[0m \u001b[38;5;28;01mdef\u001b[39;00m \u001b[38;5;21msearchsorted\u001b[39m(a, v, side\u001b[38;5;241m=\u001b[39m\u001b[38;5;124m'\u001b[39m\u001b[38;5;124mleft\u001b[39m\u001b[38;5;124m'\u001b[39m, sorter\u001b[38;5;241m=\u001b[39m\u001b[38;5;28;01mNone\u001b[39;00m):\n\u001b[1;32m   1347\u001b[0m \u001b[38;5;250m    \u001b[39m\u001b[38;5;124;03m\"\"\"\u001b[39;00m\n\u001b[1;32m   1348\u001b[0m \u001b[38;5;124;03m    Find indices where elements should be inserted to maintain order.\u001b[39;00m\n\u001b[1;32m   1349\u001b[0m \n\u001b[0;32m   (...)\u001b[0m\n\u001b[1;32m   1411\u001b[0m \n\u001b[1;32m   1412\u001b[0m \u001b[38;5;124;03m    \"\"\"\u001b[39;00m\n\u001b[0;32m-> 1413\u001b[0m     \u001b[38;5;28;01mreturn\u001b[39;00m _wrapfunc(a, \u001b[38;5;124m'\u001b[39m\u001b[38;5;124msearchsorted\u001b[39m\u001b[38;5;124m'\u001b[39m, v, side\u001b[38;5;241m=\u001b[39mside, sorter\u001b[38;5;241m=\u001b[39msorter)\n",
      "File \u001b[0;32m~/anaconda3/lib/python3.11/site-packages/numpy/core/fromnumeric.py:66\u001b[0m, in \u001b[0;36m_wrapfunc\u001b[0;34m(obj, method, *args, **kwds)\u001b[0m\n\u001b[1;32m     57\u001b[0m     \u001b[38;5;28;01mreturn\u001b[39;00m bound(\u001b[38;5;241m*\u001b[39margs, \u001b[38;5;241m*\u001b[39m\u001b[38;5;241m*\u001b[39mkwds)\n\u001b[1;32m     58\u001b[0m \u001b[38;5;28;01mexcept\u001b[39;00m \u001b[38;5;167;01mTypeError\u001b[39;00m:\n\u001b[1;32m     59\u001b[0m     \u001b[38;5;66;03m# A TypeError occurs if the object does have such a method in its\u001b[39;00m\n\u001b[1;32m     60\u001b[0m     \u001b[38;5;66;03m# class, but its signature is not identical to that of NumPy's. This\u001b[39;00m\n\u001b[0;32m   (...)\u001b[0m\n\u001b[1;32m     64\u001b[0m     \u001b[38;5;66;03m# Call _wrapit from within the except clause to ensure a potential\u001b[39;00m\n\u001b[1;32m     65\u001b[0m     \u001b[38;5;66;03m# exception has a traceback chain.\u001b[39;00m\n\u001b[0;32m---> 66\u001b[0m     \u001b[38;5;28;01mreturn\u001b[39;00m _wrapit(obj, method, \u001b[38;5;241m*\u001b[39margs, \u001b[38;5;241m*\u001b[39m\u001b[38;5;241m*\u001b[39mkwds)\n",
      "File \u001b[0;32m~/anaconda3/lib/python3.11/site-packages/numpy/core/fromnumeric.py:43\u001b[0m, in \u001b[0;36m_wrapit\u001b[0;34m(obj, method, *args, **kwds)\u001b[0m\n\u001b[1;32m     41\u001b[0m \u001b[38;5;28;01mexcept\u001b[39;00m \u001b[38;5;167;01mAttributeError\u001b[39;00m:\n\u001b[1;32m     42\u001b[0m     wrap \u001b[38;5;241m=\u001b[39m \u001b[38;5;28;01mNone\u001b[39;00m\n\u001b[0;32m---> 43\u001b[0m result \u001b[38;5;241m=\u001b[39m \u001b[38;5;28mgetattr\u001b[39m(asarray(obj), method)(\u001b[38;5;241m*\u001b[39margs, \u001b[38;5;241m*\u001b[39m\u001b[38;5;241m*\u001b[39mkwds)\n\u001b[1;32m     44\u001b[0m \u001b[38;5;28;01mif\u001b[39;00m wrap:\n\u001b[1;32m     45\u001b[0m     \u001b[38;5;28;01mif\u001b[39;00m \u001b[38;5;129;01mnot\u001b[39;00m \u001b[38;5;28misinstance\u001b[39m(result, mu\u001b[38;5;241m.\u001b[39mndarray):\n",
      "\u001b[0;31mTypeError\u001b[0m: '<' not supported between instances of 'float' and 'str'"
     ]
    }
   ],
   "source": [
    "import re\n",
    "for atributo in Atrib_Num:\n",
    "    b = []\n",
    "    for pos in re.finditer(atributo+' <= ', contenido):\n",
    "        if contenido[pos.end():].find(\":\") < contenido[pos.end():].find(\"\\n\"):\n",
    "            segmento = contenido[pos.end():].find(\":\")\n",
    "        else:\n",
    "            segmento = contenido[pos.end():].find(\"\\n\")\n",
    "        b.append(float(contenido[pos.end():pos.end()+segmento]))\n",
    "        print(b[-1])\n",
    "    c = list(set(b))\n",
    "    c.sort(key=float)\n",
    "    print(atributo,c)\n",
    "    tabla_csv[atributo] = [chr(65+i) for i in np.digitize(tabla_csv[atributo], bins=c)]"
   ]
  },
  {
   "cell_type": "code",
   "execution_count": 36,
   "id": "e39f5a94-56c9-4da8-b3fb-7015c2facbb2",
   "metadata": {
    "tags": []
   },
   "outputs": [],
   "source": [
    "tabla_csv.to_csv('Thoracic_Nominal.csv', index = False)"
   ]
  },
  {
   "cell_type": "code",
   "execution_count": null,
   "id": "8ffdfccf-d7ac-4751-ae15-57308237fa5c",
   "metadata": {},
   "outputs": [],
   "source": []
  }
 ],
 "metadata": {
  "kernelspec": {
   "display_name": "Python 3 (ipykernel)",
   "language": "python",
   "name": "python3"
  },
  "language_info": {
   "codemirror_mode": {
    "name": "ipython",
    "version": 3
   },
   "file_extension": ".py",
   "mimetype": "text/x-python",
   "name": "python",
   "nbconvert_exporter": "python",
   "pygments_lexer": "ipython3",
   "version": "3.11.5"
  }
 },
 "nbformat": 4,
 "nbformat_minor": 5
}
