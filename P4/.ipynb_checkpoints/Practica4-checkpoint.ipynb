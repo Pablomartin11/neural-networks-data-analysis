{
 "cells": [
  {
   "cell_type": "markdown",
   "id": "b6f45d85-b8ae-40e2-95bc-acf8b54d1fdc",
   "metadata": {},
   "source": [
    "## **_PRÁCTICA 4 - TAA_**"
   ]
  },
  {
   "cell_type": "markdown",
   "id": "52d5a21b-25f5-44ac-a05e-96ab9c782313",
   "metadata": {},
   "source": [
    "_Pablo Martín de Benito_"
   ]
  },
  {
   "cell_type": "markdown",
   "id": "4022d155-8c41-4614-b316-76b818a9d0f7",
   "metadata": {},
   "source": [
    "***"
   ]
  },
  {
   "cell_type": "markdown",
   "id": "5f4a3914-e2db-483f-91f0-cfa8028b2cdf",
   "metadata": {},
   "source": [
    "### _Conjunto de Datos Soybean_"
   ]
  },
  {
   "cell_type": "code",
   "execution_count": 2,
   "id": "3fd0b6a2-86bb-4472-91ee-45c99ad9fee8",
   "metadata": {
    "tags": []
   },
   "outputs": [
    {
     "name": "stdout",
     "output_type": "stream",
     "text": [
      "               name     role         type demographic  \\\n",
      "0             class   Target  Categorical        None   \n",
      "1              date  Feature  Categorical        None   \n",
      "2       plant-stand  Feature  Categorical        None   \n",
      "3            precip  Feature  Categorical        None   \n",
      "4              temp  Feature  Categorical        None   \n",
      "5              hail  Feature  Categorical        None   \n",
      "6         crop-hist  Feature  Categorical        None   \n",
      "7      area-damaged  Feature  Categorical        None   \n",
      "8          severity  Feature  Categorical        None   \n",
      "9          seed-tmt  Feature  Categorical        None   \n",
      "10      germination  Feature  Categorical        None   \n",
      "11     plant-growth  Feature  Categorical        None   \n",
      "12           leaves  Feature  Categorical        None   \n",
      "13   leafspots-halo  Feature  Categorical        None   \n",
      "14   leafspots-marg  Feature  Categorical        None   \n",
      "15    leafspot-size  Feature  Categorical        None   \n",
      "16      leaf-shread  Feature  Categorical        None   \n",
      "17        leaf-malf  Feature  Categorical        None   \n",
      "18        leaf-mild  Feature  Categorical        None   \n",
      "19             stem  Feature  Categorical        None   \n",
      "20          lodging  Feature  Categorical        None   \n",
      "21     stem-cankers  Feature  Categorical        None   \n",
      "22    canker-lesion  Feature  Categorical        None   \n",
      "23  fruiting-bodies  Feature  Categorical        None   \n",
      "24   external-decay  Feature  Categorical        None   \n",
      "25         mycelium  Feature  Categorical        None   \n",
      "26     int-discolor  Feature  Categorical        None   \n",
      "27        sclerotia  Feature  Categorical        None   \n",
      "28       fruit-pods  Feature  Categorical        None   \n",
      "29      fruit-spots  Feature  Categorical        None   \n",
      "30             seed  Feature  Categorical        None   \n",
      "31      mold-growth  Feature  Categorical        None   \n",
      "32    seed-discolor  Feature  Categorical        None   \n",
      "33        seed-size  Feature  Categorical        None   \n",
      "34       shriveling  Feature  Categorical        None   \n",
      "35            roots  Feature  Categorical        None   \n",
      "\n",
      "                                          description units missing_values  \n",
      "0   diaporthe-stem-canker, charcoal-rot, rhizocton...  None             no  \n",
      "1      april,may,june,july,august,september,october,?  None            yes  \n",
      "2                                  normal,lt-normal,?  None            yes  \n",
      "3                              lt-norm,norm,gt-norm,?  None            yes  \n",
      "4                              lt-norm,norm,gt-norm,?  None            yes  \n",
      "5                                            yes,no,?  None            yes  \n",
      "6   diff-lst-year,same-lst-yr,same-lst-two-yrs,sam...  None            yes  \n",
      "7       scattered,low-areas,upper-areas,whole-field,?  None            yes  \n",
      "8                           minor,pot-severe,severe,?  None            yes  \n",
      "9                              none,fungicide,other,?  None            yes  \n",
      "10                            90-100%,80-89%,lt-80%,?  None            yes  \n",
      "11                                      norm,abnorm,?  None            yes  \n",
      "12                                        norm,abnorm  None             no  \n",
      "13              absent,yellow-halos,no-yellow-halos,?  None            yes  \n",
      "14                         w-s-marg,no-w-s-marg,dna,?  None            yes  \n",
      "15                                lt-1/8,gt-1/8,dna,?  None            yes  \n",
      "16                                   absent,present,?  None            yes  \n",
      "17                                   absent,present,?  None            yes  \n",
      "18                     absent,upper-surf,lower-surf,?  None            yes  \n",
      "19                                      norm,abnorm,?  None            yes  \n",
      "20                                           yes,no,?  None            yes  \n",
      "21       absent,below-soil,above-soil,above-sec-nde,?  None            yes  \n",
      "22                       dna,brown,dk-brown-blk,tan,?  None            yes  \n",
      "23                                   absent,present,?  None            yes  \n",
      "24                       absent,firm-and-dry,watery,?  None            yes  \n",
      "25                                   absent,present,?  None            yes  \n",
      "26                                 none,brown,black,?  None            yes  \n",
      "27                                   absent,present,?  None            yes  \n",
      "28                    norm,diseased,few-present,dna,?  None            yes  \n",
      "29    absent,colored,brown-w/blk-specks,distort,dna,?  None            yes  \n",
      "30                                      norm,abnorm,?  None            yes  \n",
      "31                                   absent,present,?  None            yes  \n",
      "32                                   absent,present,?  None            yes  \n",
      "33                                     norm,lt-norm,?  None            yes  \n",
      "34                                   absent,present,?  None            yes  \n",
      "35                          norm,rotted,galls-cysts,?  None            yes  \n"
     ]
    }
   ],
   "source": [
    "from ucimlrepo import fetch_ucirepo \n",
    "  \n",
    "# fetch dataset \n",
    "soybean_large = fetch_ucirepo(id=90) \n",
    "  \n",
    "# data (as pandas dataframes) \n",
    "X = soybean_large.data.features \n",
    "y = soybean_large.data.targets \n",
    "\n",
    "# variable information \n",
    "print(soybean_large.variables) \n"
   ]
  }
 ],
 "metadata": {
  "kernelspec": {
   "display_name": "Python 3 (ipykernel)",
   "language": "python",
   "name": "python3"
  },
  "language_info": {
   "codemirror_mode": {
    "name": "ipython",
    "version": 3
   },
   "file_extension": ".py",
   "mimetype": "text/x-python",
   "name": "python",
   "nbconvert_exporter": "python",
   "pygments_lexer": "ipython3",
   "version": "3.11.5"
  }
 },
 "nbformat": 4,
 "nbformat_minor": 5
}
