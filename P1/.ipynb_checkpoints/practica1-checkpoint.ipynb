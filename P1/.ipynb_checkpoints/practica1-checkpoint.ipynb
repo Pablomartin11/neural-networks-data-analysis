{
 "cells": [
  {
   "cell_type": "markdown",
   "id": "95131810",
   "metadata": {},
   "source": [
    "# ***PRÁCTICA 1 - TAA***"
   ]
  },
  {
   "cell_type": "markdown",
   "id": "f0ddcfaf-dc0c-4bc8-88bb-09ebbaefe2d5",
   "metadata": {},
   "source": [
    "***Pablo Martín de Benito***"
   ]
  },
  {
   "cell_type": "markdown",
   "id": "548f9361-a7c1-4b7e-a376-dc888382706d",
   "metadata": {},
   "source": [
    "***"
   ]
  },
  {
   "cell_type": "code",
   "execution_count": 3,
   "id": "c1426762",
   "metadata": {
    "tags": []
   },
   "outputs": [],
   "source": [
    "import numpy as np\n",
    "from scipy.stats import entropy\n",
    "import pandas as pd"
   ]
  },
  {
   "cell_type": "code",
   "execution_count": 20,
   "id": "fae23c06",
   "metadata": {
    "tags": []
   },
   "outputs": [
    {
     "data": {
      "text/html": [
       "<div>\n",
       "<style scoped>\n",
       "    .dataframe tbody tr th:only-of-type {\n",
       "        vertical-align: middle;\n",
       "    }\n",
       "\n",
       "    .dataframe tbody tr th {\n",
       "        vertical-align: top;\n",
       "    }\n",
       "\n",
       "    .dataframe thead th {\n",
       "        text-align: right;\n",
       "    }\n",
       "</style>\n",
       "<table border=\"1\" class=\"dataframe\">\n",
       "  <thead>\n",
       "    <tr style=\"text-align: right;\">\n",
       "      <th></th>\n",
       "      <th>outlook</th>\n",
       "      <th>temperature</th>\n",
       "      <th>humidity</th>\n",
       "      <th>windy</th>\n",
       "      <th>play</th>\n",
       "    </tr>\n",
       "  </thead>\n",
       "  <tbody>\n",
       "    <tr>\n",
       "      <th>0</th>\n",
       "      <td>sunny</td>\n",
       "      <td>hot</td>\n",
       "      <td>high</td>\n",
       "      <td>False</td>\n",
       "      <td>no</td>\n",
       "    </tr>\n",
       "    <tr>\n",
       "      <th>1</th>\n",
       "      <td>sunny</td>\n",
       "      <td>hot</td>\n",
       "      <td>high</td>\n",
       "      <td>True</td>\n",
       "      <td>no</td>\n",
       "    </tr>\n",
       "    <tr>\n",
       "      <th>2</th>\n",
       "      <td>overcast</td>\n",
       "      <td>hot</td>\n",
       "      <td>high</td>\n",
       "      <td>False</td>\n",
       "      <td>yes</td>\n",
       "    </tr>\n",
       "    <tr>\n",
       "      <th>3</th>\n",
       "      <td>rainy</td>\n",
       "      <td>mild</td>\n",
       "      <td>high</td>\n",
       "      <td>False</td>\n",
       "      <td>yes</td>\n",
       "    </tr>\n",
       "    <tr>\n",
       "      <th>4</th>\n",
       "      <td>rainy</td>\n",
       "      <td>cool</td>\n",
       "      <td>normal</td>\n",
       "      <td>False</td>\n",
       "      <td>yes</td>\n",
       "    </tr>\n",
       "    <tr>\n",
       "      <th>5</th>\n",
       "      <td>rainy</td>\n",
       "      <td>cool</td>\n",
       "      <td>normal</td>\n",
       "      <td>True</td>\n",
       "      <td>no</td>\n",
       "    </tr>\n",
       "    <tr>\n",
       "      <th>6</th>\n",
       "      <td>overcast</td>\n",
       "      <td>cool</td>\n",
       "      <td>normal</td>\n",
       "      <td>True</td>\n",
       "      <td>yes</td>\n",
       "    </tr>\n",
       "    <tr>\n",
       "      <th>7</th>\n",
       "      <td>sunny</td>\n",
       "      <td>mild</td>\n",
       "      <td>high</td>\n",
       "      <td>False</td>\n",
       "      <td>no</td>\n",
       "    </tr>\n",
       "    <tr>\n",
       "      <th>8</th>\n",
       "      <td>sunny</td>\n",
       "      <td>cool</td>\n",
       "      <td>normal</td>\n",
       "      <td>False</td>\n",
       "      <td>yes</td>\n",
       "    </tr>\n",
       "    <tr>\n",
       "      <th>9</th>\n",
       "      <td>rainy</td>\n",
       "      <td>mild</td>\n",
       "      <td>normal</td>\n",
       "      <td>False</td>\n",
       "      <td>yes</td>\n",
       "    </tr>\n",
       "    <tr>\n",
       "      <th>10</th>\n",
       "      <td>sunny</td>\n",
       "      <td>mild</td>\n",
       "      <td>normal</td>\n",
       "      <td>True</td>\n",
       "      <td>yes</td>\n",
       "    </tr>\n",
       "    <tr>\n",
       "      <th>11</th>\n",
       "      <td>overcast</td>\n",
       "      <td>mild</td>\n",
       "      <td>high</td>\n",
       "      <td>True</td>\n",
       "      <td>yes</td>\n",
       "    </tr>\n",
       "    <tr>\n",
       "      <th>12</th>\n",
       "      <td>overcast</td>\n",
       "      <td>hot</td>\n",
       "      <td>normal</td>\n",
       "      <td>False</td>\n",
       "      <td>yes</td>\n",
       "    </tr>\n",
       "    <tr>\n",
       "      <th>13</th>\n",
       "      <td>rainy</td>\n",
       "      <td>mild</td>\n",
       "      <td>high</td>\n",
       "      <td>True</td>\n",
       "      <td>no</td>\n",
       "    </tr>\n",
       "  </tbody>\n",
       "</table>\n",
       "</div>"
      ],
      "text/plain": [
       "     outlook temperature humidity  windy play\n",
       "0      sunny         hot     high  False   no\n",
       "1      sunny         hot     high   True   no\n",
       "2   overcast         hot     high  False  yes\n",
       "3      rainy        mild     high  False  yes\n",
       "4      rainy        cool   normal  False  yes\n",
       "5      rainy        cool   normal   True   no\n",
       "6   overcast        cool   normal   True  yes\n",
       "7      sunny        mild     high  False   no\n",
       "8      sunny        cool   normal  False  yes\n",
       "9      rainy        mild   normal  False  yes\n",
       "10     sunny        mild   normal   True  yes\n",
       "11  overcast        mild     high   True  yes\n",
       "12  overcast         hot   normal  False  yes\n",
       "13     rainy        mild     high   True   no"
      ]
     },
     "execution_count": 20,
     "metadata": {},
     "output_type": "execute_result"
    }
   ],
   "source": [
    "tabla = pd.read_csv(\"/home/pablo/UVa/TAA/Practica1/weather-nominal.csv\")\n",
    "tabla"
   ]
  },
  {
   "cell_type": "markdown",
   "id": "9c8ced02",
   "metadata": {},
   "source": [
    "## ENTROPÍA respecto a WeatherNominal"
   ]
  },
  {
   "cell_type": "code",
   "execution_count": 21,
   "id": "d38a68a9",
   "metadata": {
    "tags": []
   },
   "outputs": [
    {
     "data": {
      "text/plain": [
       "play\n",
       "yes    0.642857\n",
       "no     0.357143\n",
       "Name: proportion, dtype: float64"
      ]
     },
     "execution_count": 21,
     "metadata": {},
     "output_type": "execute_result"
    }
   ],
   "source": [
    "tabla.iloc[:,-1].value_counts(normalize=True)"
   ]
  },
  {
   "cell_type": "code",
   "execution_count": 22,
   "id": "15a8d5b8",
   "metadata": {
    "tags": []
   },
   "outputs": [
    {
     "name": "stdout",
     "output_type": "stream",
     "text": [
      "Entropy WeatherNominal =  0.940285958670631\n"
     ]
    }
   ],
   "source": [
    "H = entropy(tabla.iloc[:,-1].value_counts(normalize=True), base=2)\n",
    "print(\"Entropy WeatherNominal = \",H)"
   ]
  },
  {
   "cell_type": "markdown",
   "id": "21a69bac-6629-47ff-a5a2-f67a172477bf",
   "metadata": {},
   "source": [
    "## ENTROPÍA respecto a cada de una de las variables"
   ]
  },
  {
   "cell_type": "code",
   "execution_count": 23,
   "id": "68acb0c1-64a8-4b8d-b9a2-dad96e589691",
   "metadata": {
    "tags": []
   },
   "outputs": [
    {
     "name": "stdout",
     "output_type": "stream",
     "text": [
      "Entropy ( outlook  =  sunny ) =   0.9709505944546688\n",
      "Entropy ( outlook  =  overcast ) =   0.0\n",
      "Entropy ( outlook  =  rainy ) =   0.9709505944546688\n",
      "Entropy ( temperature  =  hot ) =   1.0\n",
      "Entropy ( temperature  =  mild ) =   0.9182958340544894\n",
      "Entropy ( temperature  =  cool ) =   0.8112781244591328\n",
      "Entropy ( humidity  =  high ) =   0.9852281360342515\n",
      "Entropy ( humidity  =  normal ) =   0.5916727785823274\n",
      "Entropy ( windy  =  False ) =   0.8112781244591328\n",
      "Entropy ( windy  =  True ) =   1.0\n"
     ]
    }
   ],
   "source": [
    "G = []\n",
    "l = len(tabla)\n",
    "for atributo in tabla.columns[:-1]: # Quitamos el clasficador\n",
    "    G.append(H)\n",
    "    for v in tabla[atributo].unique():\n",
    "        table = tabla.loc[tabla[atributo] == v]\n",
    "        # print(table)\n",
    "        G[-1] = entropy(table.loc[tabla[atributo] == v].iloc[:,-1].value_counts(normalize=True), base=2)\n",
    "        print(\"Entropy (\", atributo, \" = \",v,\") =  \", G[-1])"
   ]
  },
  {
   "cell_type": "code",
   "execution_count": 24,
   "id": "1aac59c4-1554-476c-88ac-ee9632ef79a5",
   "metadata": {
    "tags": []
   },
   "outputs": [
    {
     "name": "stdout",
     "output_type": "stream",
     "text": [
      "G(s,  outlook ) =   0.246749819774439\n",
      "G(s,  temperature ) =   0.029222565658954758\n",
      "G(s,  humidity ) =   0.15183550136234159\n",
      "G(s,  windy ) =   0.04812703040826943\n",
      "\n",
      "Ganancia en Información Máxima (Entropía) con - outlook -\n"
     ]
    }
   ],
   "source": [
    "G = []\n",
    "l = len(tabla)\n",
    "for atributo in tabla.columns[:-1]:\n",
    "    G.append(H)\n",
    "    for v in tabla[atributo].unique():\n",
    "        table = tabla.loc[tabla[atributo] == v]\n",
    "        # print(table)\n",
    "        G[-1] -= (len(table)/l)*entropy(table.iloc[:,-1].value_counts(normalize=True), base=2)\n",
    "    print(\"G(s, \", atributo, \") =  \", G[-1])\n",
    "print(\"\\nGanancia en Información Máxima (Entropía) con -\", tabla.columns[np.argmax(G)],\"-\")"
   ]
  },
  {
   "cell_type": "markdown",
   "id": "3c2753fc-2d11-4fc9-a874-97f0683b9f8f",
   "metadata": {},
   "source": [
    "## GINI respecto a WeatherNominal"
   ]
  },
  {
   "cell_type": "code",
   "execution_count": 25,
   "id": "68ddf5f6",
   "metadata": {
    "tags": []
   },
   "outputs": [],
   "source": [
    "def gini(X):\n",
    "    G = 1.0\n",
    "    for c in np.unique(X):   # unique te va a dando la lista de valores diferentes.\n",
    "        G -= np.mean(c == X)**2\n",
    "    return G"
   ]
  },
  {
   "cell_type": "code",
   "execution_count": 26,
   "id": "be9fd6fd-7a74-4b67-96ed-bfa80066f39d",
   "metadata": {
    "tags": []
   },
   "outputs": [
    {
     "name": "stdout",
     "output_type": "stream",
     "text": [
      "Gini WeatherNominal =  0.4591836734693877\n"
     ]
    }
   ],
   "source": [
    "H = gini(tabla.iloc[:,-1])\n",
    "print(\"Gini WeatherNominal = \",H)"
   ]
  },
  {
   "cell_type": "markdown",
   "id": "42be4d56",
   "metadata": {},
   "source": [
    "## GINI con respecto a cada una de las variables"
   ]
  },
  {
   "cell_type": "code",
   "execution_count": 27,
   "id": "cd7f52d5-651d-4e72-a520-151711c0181b",
   "metadata": {
    "tags": []
   },
   "outputs": [
    {
     "name": "stdout",
     "output_type": "stream",
     "text": [
      "Gini ( outlook  =  sunny ) =   0.48\n",
      "Gini ( outlook  =  overcast ) =   0.0\n",
      "Gini ( outlook  =  rainy ) =   0.48\n",
      "Gini ( temperature  =  hot ) =   0.5\n",
      "Gini ( temperature  =  mild ) =   0.4444444444444444\n",
      "Gini ( temperature  =  cool ) =   0.375\n",
      "Gini ( humidity  =  high ) =   0.48979591836734704\n",
      "Gini ( humidity  =  normal ) =   0.24489795918367352\n",
      "Gini ( windy  =  False ) =   0.375\n",
      "Gini ( windy  =  True ) =   0.5\n"
     ]
    }
   ],
   "source": [
    "G = []\n",
    "l = len(tabla)\n",
    "for atributo in tabla.columns[:-1]: # Quitamos el clasficador\n",
    "    G.append(H)\n",
    "    for v in tabla[atributo].unique():\n",
    "        table = tabla.loc[tabla[atributo] == v]\n",
    "        # print(table)\n",
    "        G[-1] = gini(table.loc[tabla[atributo] == v].iloc[:,-1])\n",
    "        print(\"Gini (\", atributo, \" = \",v,\") =  \", G[-1])"
   ]
  },
  {
   "cell_type": "code",
   "execution_count": 28,
   "id": "1fa9e17e-7c7c-47c8-8a17-1ca4209401bc",
   "metadata": {
    "tags": []
   },
   "outputs": [
    {
     "name": "stdout",
     "output_type": "stream",
     "text": [
      "G(s,  outlook ) =   0.11632653061224485\n",
      "G(s,  temperature ) =   0.018707482993197258\n",
      "G(s,  humidity ) =   0.09183673469387743\n",
      "G(s,  windy ) =   0.030612244897959162\n",
      "\n",
      "Ganancia en Información Máxima (Gini) con - outlook -\n"
     ]
    }
   ],
   "source": [
    "G = []\n",
    "l = len(tabla)\n",
    "for atributo in tabla.columns[:-1]: # Quitamos el clasficador\n",
    "    G.append(H)\n",
    "    for v in tabla[atributo].unique():\n",
    "        table = tabla.loc[tabla[atributo] == v]\n",
    "        # print(table)\n",
    "        G[-1] -= (len(table)/l)*gini(table.iloc[:,-1])\n",
    "    print(\"G(s, \", atributo, \") =  \", G[-1])\n",
    "print(\"\\nGanancia en Información Máxima (Gini) con -\", tabla.columns[np.argmax(G)],\"-\")"
   ]
  }
 ],
 "metadata": {
  "kernelspec": {
   "display_name": "Python 3 (ipykernel)",
   "language": "python",
   "name": "python3"
  },
  "language_info": {
   "codemirror_mode": {
    "name": "ipython",
    "version": 3
   },
   "file_extension": ".py",
   "mimetype": "text/x-python",
   "name": "python",
   "nbconvert_exporter": "python",
   "pygments_lexer": "ipython3",
   "version": "3.11.5"
  }
 },
 "nbformat": 4,
 "nbformat_minor": 5
}
