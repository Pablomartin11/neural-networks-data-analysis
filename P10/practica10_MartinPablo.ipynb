{
 "cells": [
  {
   "cell_type": "markdown",
   "metadata": {},
   "source": [
    "## **_PRÁCTICA 10 - TAA_**\n",
    "_Pablo Martín de Benito_"
   ]
  },
  {
   "cell_type": "markdown",
   "metadata": {},
   "source": [
    "***"
   ]
  },
  {
   "cell_type": "markdown",
   "metadata": {},
   "source": [
    "Utilizamos 'htop' para ver el rendimiento del portatil"
   ]
  },
  {
   "cell_type": "code",
   "execution_count": 1,
   "metadata": {},
   "outputs": [],
   "source": [
    "from sklearn.datasets import fetch_openml\n",
    "import pandas as pd\n",
    "import numpy as np\n",
    "from sklearn.neural_network import MLPClassifier\n",
    "from sklearn.model_selection import KFold\n",
    "from sklearn.preprocessing import MinMaxScaler\n",
    "import time\n",
    "from tqdm import tqdm"
   ]
  },
  {
   "cell_type": "code",
   "execution_count": 2,
   "metadata": {},
   "outputs": [
    {
     "name": "stdout",
     "output_type": "stream",
     "text": [
      "     V1     V2      V3     V4     V5   V6   V7   V8    V9  V10  ...  V27  V28  \\\n",
      "0  23.0  240.0   357.0  120.0  120.0  0.0  0.0  0.0  73.0  0.5  ...  0.0  0.0   \n",
      "1  45.0    5.0   632.0  132.0  132.0  4.0  0.0  4.0  17.0  2.1  ...  0.0  0.0   \n",
      "2  45.0  177.0   779.0  133.0  133.0  2.0  0.0  5.0  16.0  2.1  ...  0.0  0.0   \n",
      "3  45.0  411.0  1192.0  134.0  134.0  2.0  0.0  6.0  16.0  2.4  ...  0.0  0.0   \n",
      "4  45.0  533.0  1147.0  132.0  132.0  4.0  0.0  5.0  16.0  2.4  ...  1.0  0.0   \n",
      "\n",
      "   V29  V30  V31  V32  V33  V34  V35  target  \n",
      "0  0.0  0.0  0.0  0.0  0.0  1.0  0.0       2  \n",
      "1  0.0  0.0  1.0  0.0  0.0  0.0  0.0       1  \n",
      "2  0.0  0.0  1.0  0.0  0.0  0.0  0.0       1  \n",
      "3  0.0  0.0  1.0  0.0  0.0  0.0  0.0       1  \n",
      "4  0.0  0.0  0.0  0.0  0.0  0.0  0.0       1  \n",
      "\n",
      "[5 rows x 36 columns]\n",
      "(2126, 36)\n"
     ]
    },
    {
     "name": "stderr",
     "output_type": "stream",
     "text": [
      "/home/pablo/anaconda3/lib/python3.11/site-packages/sklearn/datasets/_openml.py:1002: FutureWarning: The default value of `parser` will change from `'liac-arff'` to `'auto'` in 1.4. You can set `parser='auto'` to silence this warning. Therefore, an `ImportError` will be raised from 1.4 if the dataset is dense and pandas is not installed. Note that the pandas parser may return different data types. See the Notes Section in fetch_openml's API doc for details.\n",
      "  warn(\n"
     ]
    }
   ],
   "source": [
    "# Descarga el dataset por ID\n",
    "dataset = fetch_openml(data_id=1560)  \n",
    "\n",
    "# Convierte los datos a un DataFrame de pandas\n",
    "df = pd.DataFrame(data=dataset.data, columns=dataset.feature_names)\n",
    "df['target'] = dataset.target\n",
    "\n",
    "# Muestra las primeras filas del DataFrame\n",
    "print(df.head())\n",
    "print(df.shape)"
   ]
  },
  {
   "cell_type": "code",
   "execution_count": 3,
   "metadata": {},
   "outputs": [],
   "source": [
    "X = df.copy()\n",
    "X.drop(columns=['target'], inplace=True)\n",
    "scaler = MinMaxScaler().fit(X)\n",
    "X = scaler.transform(X)\n",
    "\n",
    "y = df['target']\n",
    "y_array = np.array(y)"
   ]
  },
  {
   "cell_type": "code",
   "execution_count": 4,
   "metadata": {},
   "outputs": [
    {
     "data": {
      "text/html": [
       "<div>\n",
       "<style scoped>\n",
       "    .dataframe tbody tr th:only-of-type {\n",
       "        vertical-align: middle;\n",
       "    }\n",
       "\n",
       "    .dataframe tbody tr th {\n",
       "        vertical-align: top;\n",
       "    }\n",
       "\n",
       "    .dataframe thead th {\n",
       "        text-align: right;\n",
       "    }\n",
       "</style>\n",
       "<table border=\"1\" class=\"dataframe\">\n",
       "  <thead>\n",
       "    <tr style=\"text-align: right;\">\n",
       "      <th></th>\n",
       "      <th>Entrena</th>\n",
       "      <th>Verifica</th>\n",
       "      <th>T_Ejecución</th>\n",
       "    </tr>\n",
       "  </thead>\n",
       "  <tbody>\n",
       "    <tr>\n",
       "      <th>5</th>\n",
       "      <td>NaN</td>\n",
       "      <td>NaN</td>\n",
       "      <td>NaN</td>\n",
       "    </tr>\n",
       "    <tr>\n",
       "      <th>10</th>\n",
       "      <td>NaN</td>\n",
       "      <td>NaN</td>\n",
       "      <td>NaN</td>\n",
       "    </tr>\n",
       "    <tr>\n",
       "      <th>15</th>\n",
       "      <td>NaN</td>\n",
       "      <td>NaN</td>\n",
       "      <td>NaN</td>\n",
       "    </tr>\n",
       "    <tr>\n",
       "      <th>20</th>\n",
       "      <td>NaN</td>\n",
       "      <td>NaN</td>\n",
       "      <td>NaN</td>\n",
       "    </tr>\n",
       "    <tr>\n",
       "      <th>25</th>\n",
       "      <td>NaN</td>\n",
       "      <td>NaN</td>\n",
       "      <td>NaN</td>\n",
       "    </tr>\n",
       "    <tr>\n",
       "      <th>30</th>\n",
       "      <td>NaN</td>\n",
       "      <td>NaN</td>\n",
       "      <td>NaN</td>\n",
       "    </tr>\n",
       "    <tr>\n",
       "      <th>35</th>\n",
       "      <td>NaN</td>\n",
       "      <td>NaN</td>\n",
       "      <td>NaN</td>\n",
       "    </tr>\n",
       "    <tr>\n",
       "      <th>40</th>\n",
       "      <td>NaN</td>\n",
       "      <td>NaN</td>\n",
       "      <td>NaN</td>\n",
       "    </tr>\n",
       "    <tr>\n",
       "      <th>45</th>\n",
       "      <td>NaN</td>\n",
       "      <td>NaN</td>\n",
       "      <td>NaN</td>\n",
       "    </tr>\n",
       "    <tr>\n",
       "      <th>50</th>\n",
       "      <td>NaN</td>\n",
       "      <td>NaN</td>\n",
       "      <td>NaN</td>\n",
       "    </tr>\n",
       "  </tbody>\n",
       "</table>\n",
       "</div>"
      ],
      "text/plain": [
       "   Entrena Verifica T_Ejecución\n",
       "5      NaN      NaN         NaN\n",
       "10     NaN      NaN         NaN\n",
       "15     NaN      NaN         NaN\n",
       "20     NaN      NaN         NaN\n",
       "25     NaN      NaN         NaN\n",
       "30     NaN      NaN         NaN\n",
       "35     NaN      NaN         NaN\n",
       "40     NaN      NaN         NaN\n",
       "45     NaN      NaN         NaN\n",
       "50     NaN      NaN         NaN"
      ]
     },
     "execution_count": 4,
     "metadata": {},
     "output_type": "execute_result"
    }
   ],
   "source": [
    "resul = pd.DataFrame(index=range(5,51,5), columns = ('Entrena', 'Verifica','T_Ejecución'))\n",
    "resul.index_name = \"Tamaño\"\n",
    "resul"
   ]
  },
  {
   "cell_type": "code",
   "execution_count": 5,
   "metadata": {},
   "outputs": [],
   "source": [
    "K = 10\n",
    "kf = KFold(n_splits=K)"
   ]
  },
  {
   "cell_type": "code",
   "execution_count": 6,
   "metadata": {},
   "outputs": [
    {
     "name": "stderr",
     "output_type": "stream",
     "text": [
      "100%|██████████| 10/10 [00:05<00:00,  1.97it/s]\n"
     ]
    },
    {
     "name": "stdout",
     "output_type": "stream",
     "text": [
      "\n",
      "MEDIA:\n",
      "       Entrena  Verifica T. Ejecución\n",
      "Fold                                 \n",
      "0     0.992159  0.957746     0.434261\n",
      "1     0.994773   0.99061     1.136109\n",
      "2     0.992159  0.971831     0.454126\n",
      "3     0.991113  0.985915     0.386375\n",
      "4     0.990591       1.0     0.436329\n",
      "5     0.991113       1.0     0.600145\n",
      "6     0.992685  0.990566     0.397036\n",
      "7     0.991641  0.995283     0.335298\n",
      "8     0.991641       1.0     0.498521\n",
      "9     0.992163  0.990566     0.378011\n",
      "\n",
      "Tiempo Total (seg) =  5.056211471557617 \n",
      "\n",
      "0.992003756948689\n"
     ]
    },
    {
     "name": "stderr",
     "output_type": "stream",
     "text": [
      "100%|██████████| 10/10 [00:04<00:00,  2.37it/s]\n"
     ]
    },
    {
     "name": "stdout",
     "output_type": "stream",
     "text": [
      "\n",
      "MEDIA:\n",
      "       Entrena  Verifica T. Ejecución\n",
      "Fold                                 \n",
      "0     0.993727  0.957746     0.386238\n",
      "1     0.991113   0.99061     0.506585\n",
      "2     0.991113  0.971831     0.353057\n",
      "3     0.991636   0.99061     0.489365\n",
      "4     0.991113       1.0     0.447597\n",
      "5     0.991113       1.0     0.380751\n",
      "6     0.992163  0.990566     0.456669\n",
      "7     0.992163  0.990566     0.329259\n",
      "8     0.991641       1.0      0.40859\n",
      "9     0.992163  0.976415     0.446583\n",
      "\n",
      "Tiempo Total (seg) =  4.2046942710876465 \n",
      "\n",
      "0.9917946612874241\n"
     ]
    },
    {
     "name": "stderr",
     "output_type": "stream",
     "text": [
      "100%|██████████| 10/10 [00:05<00:00,  1.82it/s]\n"
     ]
    },
    {
     "name": "stdout",
     "output_type": "stream",
     "text": [
      "\n",
      "MEDIA:\n",
      "       Entrena  Verifica T. Ejecución\n",
      "Fold                                 \n",
      "0     0.995295  0.962441     0.513223\n",
      "1     0.992682   0.99061      0.56038\n",
      "2     0.992682  0.971831     0.434295\n",
      "3     0.993727  0.985915     0.659419\n",
      "4     0.993204  0.995305     0.815647\n",
      "5     0.992682       1.0     0.528085\n",
      "6     0.992163  0.990566     0.495293\n",
      "7     0.992685  0.995283     0.358762\n",
      "8     0.993208       1.0     0.728701\n",
      "9     0.992163  0.966981     0.394113\n",
      "\n",
      "Tiempo Total (seg) =  5.487917423248291 \n",
      "\n",
      "0.9930491260096321\n"
     ]
    },
    {
     "name": "stderr",
     "output_type": "stream",
     "text": [
      "100%|██████████| 10/10 [00:04<00:00,  2.01it/s]\n"
     ]
    },
    {
     "name": "stdout",
     "output_type": "stream",
     "text": [
      "\n",
      "MEDIA:\n",
      "       Entrena  Verifica T. Ejecución\n",
      "Fold                                 \n",
      "0     0.995818  0.962441     0.485699\n",
      "1     0.992159   0.99061     0.468661\n",
      "2     0.992682  0.971831     0.413621\n",
      "3     0.993727   0.99061     0.506459\n",
      "4     0.992159       1.0     0.483885\n",
      "5     0.992682       1.0     0.500256\n",
      "6     0.993208  0.990566     0.563385\n",
      "7     0.992685  0.985849     0.639243\n",
      "8     0.990596       1.0     0.382705\n",
      "9     0.993208  0.966981     0.533433\n",
      "\n",
      "Tiempo Total (seg) =  4.9773478507995605 \n",
      "\n",
      "0.9928923315750289\n"
     ]
    },
    {
     "name": "stderr",
     "output_type": "stream",
     "text": [
      "100%|██████████| 10/10 [00:05<00:00,  1.72it/s]\n"
     ]
    },
    {
     "name": "stdout",
     "output_type": "stream",
     "text": [
      "\n",
      "MEDIA:\n",
      "       Entrena  Verifica T. Ejecución\n",
      "Fold                                 \n",
      "0     0.996341  0.962441     0.553061\n",
      "1     0.993204   0.99061     0.577764\n",
      "2     0.992682  0.971831     0.509843\n",
      "3     0.993727   0.99061     0.650682\n",
      "4     0.992682  0.995305      0.53058\n",
      "5     0.992159       1.0     0.663083\n",
      "6     0.992685  0.990566     0.701898\n",
      "7      0.99373  0.990566     0.560329\n",
      "8     0.992685       1.0     0.495839\n",
      "9     0.993208  0.971698     0.557807\n",
      "\n",
      "Tiempo Total (seg) =  5.800885915756226 \n",
      "\n",
      "0.9933103863408312\n"
     ]
    },
    {
     "name": "stderr",
     "output_type": "stream",
     "text": [
      "100%|██████████| 10/10 [00:06<00:00,  1.44it/s]\n"
     ]
    },
    {
     "name": "stdout",
     "output_type": "stream",
     "text": [
      "\n",
      "MEDIA:\n",
      "       Entrena  Verifica T. Ejecución\n",
      "Fold                                 \n",
      "0     0.996341  0.962441     0.580789\n",
      "1     0.993204   0.99061     0.705784\n",
      "2     0.992682  0.976526      0.64821\n",
      "3     0.993727  0.985915     0.798752\n",
      "4     0.995295  0.995305     0.963311\n",
      "5     0.992682       1.0     0.523192\n",
      "6     0.992685  0.990566     0.527746\n",
      "7     0.993208  0.990566     0.518579\n",
      "8      0.99373       1.0     0.908162\n",
      "9      0.99373  0.915094     0.741083\n",
      "\n",
      "Tiempo Total (seg) =  6.915608167648315 \n",
      "\n",
      "0.9937285230406705\n"
     ]
    },
    {
     "name": "stderr",
     "output_type": "stream",
     "text": [
      "100%|██████████| 10/10 [00:08<00:00,  1.12it/s]\n"
     ]
    },
    {
     "name": "stdout",
     "output_type": "stream",
     "text": [
      "\n",
      "MEDIA:\n",
      "       Entrena  Verifica T. Ejecución\n",
      "Fold                                 \n",
      "0     0.997386  0.962441     0.537294\n",
      "1     0.993204   0.99061     0.574178\n",
      "2     0.994773   0.99061     0.949719\n",
      "3     0.997386  0.985915      0.94712\n",
      "4     0.996341  0.995305     1.261338\n",
      "5      0.99425       1.0     0.845718\n",
      "6     0.994775  0.976415     1.130245\n",
      "7     0.996343  0.981132     1.250152\n",
      "8     0.992685       1.0     0.559963\n",
      "9     0.994775  0.919811      0.87053\n",
      "\n",
      "Tiempo Total (seg) =  8.926257610321045 \n",
      "\n",
      "0.9951919195560706\n"
     ]
    },
    {
     "name": "stderr",
     "output_type": "stream",
     "text": [
      "100%|██████████| 10/10 [00:07<00:00,  1.27it/s]\n"
     ]
    },
    {
     "name": "stdout",
     "output_type": "stream",
     "text": [
      "\n",
      "MEDIA:\n",
      "       Entrena  Verifica T. Ejecución\n",
      "Fold                                 \n",
      "0     0.996864  0.962441     0.653989\n",
      "1     0.995295   0.99061     0.938059\n",
      "2     0.995818  0.985915     0.903641\n",
      "3     0.993204  0.985915     0.625525\n",
      "4     0.992682       1.0     0.696117\n",
      "5     0.992682       1.0     0.583297\n",
      "6     0.995298  0.962264     1.028888\n",
      "7     0.994775  0.981132     1.013092\n",
      "8     0.994253       1.0     0.934989\n",
      "9     0.993208  0.962264     0.460387\n",
      "\n",
      "Tiempo Total (seg) =  7.837984561920166 \n",
      "\n",
      "0.9944078654490175\n"
     ]
    },
    {
     "name": "stderr",
     "output_type": "stream",
     "text": [
      "100%|██████████| 10/10 [00:09<00:00,  1.11it/s]\n"
     ]
    },
    {
     "name": "stdout",
     "output_type": "stream",
     "text": [
      "\n",
      "MEDIA:\n",
      "       Entrena  Verifica T. Ejecución\n",
      "Fold                                 \n",
      "0     0.996341  0.962441     0.607204\n",
      "1     0.997386  0.985915     0.986287\n",
      "2      0.99425  0.981221     0.729497\n",
      "3     0.995818  0.985915     0.709123\n",
      "4     0.992682  0.995305     0.654817\n",
      "5     0.995295       1.0     1.011141\n",
      "6     0.994775  0.981132     0.813264\n",
      "7     0.994253  0.981132     0.697392\n",
      "8     0.995298       1.0     1.707683\n",
      "9     0.996343  0.924528     1.107727\n",
      "\n",
      "Tiempo Total (seg) =  9.024135828018188 \n",
      "\n",
      "0.9952440842260046\n"
     ]
    },
    {
     "name": "stderr",
     "output_type": "stream",
     "text": [
      "100%|██████████| 10/10 [00:09<00:00,  1.10it/s]"
     ]
    },
    {
     "name": "stdout",
     "output_type": "stream",
     "text": [
      "\n",
      "MEDIA:\n",
      "       Entrena  Verifica T. Ejecución\n",
      "Fold                                 \n",
      "0     0.997386  0.962441     0.534568\n",
      "1     0.994773   0.99061     0.557089\n",
      "2     0.997386  0.985915     1.273027\n",
      "3     0.995818   0.99061      0.90305\n",
      "4     0.992682  0.995305     0.624606\n",
      "5     0.996864       1.0     1.434334\n",
      "6     0.996865  0.976415     1.000069\n",
      "7     0.996865  0.985849      1.28006\n",
      "8     0.994253       1.0      0.72895\n",
      "9     0.995298  0.924528     0.714213\n",
      "\n",
      "Tiempo Total (seg) =  9.049966812133789 \n",
      "\n",
      "0.9958189607377559\n"
     ]
    },
    {
     "name": "stderr",
     "output_type": "stream",
     "text": [
      "\n"
     ]
    }
   ],
   "source": [
    "tamaños = np.arange(5,51,5)\n",
    "for tam in tamaños:\n",
    "    r_clf = pd.DataFrame(columns=['Entrena','Verifica','T. Ejecución'])\n",
    "    k = 0\n",
    "    for train_index, test_index in tqdm(kf.split(X),total = kf.get_n_splits(X)):\n",
    "        start_time = time.time()\n",
    "\n",
    "        clf = MLPClassifier(hidden_layer_sizes=tam, max_iter=2000)\n",
    "        X_train = X[train_index,:]\n",
    "        y_train = y[train_index]\n",
    "        X_test = X[test_index,:]\n",
    "        y_test = y[test_index]\n",
    "\n",
    "        clf.fit(X_train, y_train)\n",
    "        entrena = clf.score(X_train, y_train)\n",
    "        verifica = clf.score(X_test, y_test)\n",
    "\n",
    "        end_time = time.time()\n",
    "        ejecucion = end_time - start_time\n",
    "\n",
    "        r_clf.loc[k,:] = [entrena,verifica,ejecucion]\n",
    "\n",
    "        k += 1\n",
    "    r_clf.index.name = \"Fold\"\n",
    "\n",
    "    print(\"\\nMEDIA:\")\n",
    "    print(r_clf)\n",
    "    mEntrena = np.mean(r_clf['Entrena'])\n",
    "    mVerifica = np.mean(r_clf['Verifica'])\n",
    "    mTiempo = np.mean(r_clf['T. Ejecución'])\n",
    "    print(\"\\nTiempo Total (seg) = \", r_clf['T. Ejecución'].sum(),\"\\n\")\n",
    "    print(mEntrena)\n",
    "\n",
    "    resul.loc[tam,:] = [mEntrena,mVerifica,mTiempo]"
   ]
  },
  {
   "cell_type": "markdown",
   "metadata": {},
   "source": [
    "### MLP Óptimo y más rápido"
   ]
  },
  {
   "cell_type": "code",
   "execution_count": 7,
   "metadata": {},
   "outputs": [
    {
     "name": "stdout",
     "output_type": "stream",
     "text": [
      "Tamaño Óptimo =   5\n",
      "Tamaño más rápido =   10\n",
      "     Entrena  Verifica T_Ejecución\n",
      "5   0.992004  0.988252    0.505621\n",
      "10  0.991795  0.986835    0.420469\n",
      "15  0.993049  0.985893    0.548792\n",
      "20  0.992892  0.985889    0.497735\n",
      "25   0.99331  0.986363    0.580089\n",
      "30  0.993729  0.980702    0.691561\n",
      "35  0.995192  0.980224    0.892626\n",
      "40  0.994408  0.983054    0.783798\n",
      "45  0.995244  0.979759    0.902414\n",
      "50  0.995819  0.981168    0.904997\n"
     ]
    }
   ],
   "source": [
    "print(\"Tamaño Óptimo =  \", resul.index[np.argmax(resul.Verifica.values)])\n",
    "print(\"Tamaño más rápido =  \", resul.index[np.argmin(resul['T_Ejecución'].values)])\n",
    "print(resul)"
   ]
  },
  {
   "cell_type": "code",
   "execution_count": 8,
   "metadata": {},
   "outputs": [],
   "source": [
    "import matplotlib.pyplot as plt "
   ]
  },
  {
   "cell_type": "code",
   "execution_count": 10,
   "metadata": {},
   "outputs": [
    {
     "data": {
      "image/png": "[encoded data removed]",
      "text/plain": [
       "<Figure size 1500x800 with 2 Axes>"
      ]
     },
     "metadata": {},
     "output_type": "display_data"
    }
   ],
   "source": [
    "fig, ax = plt.subplots(2,1, figsize=(15,8))\n",
    "ax[0].plot(range(5,51,5), resul.Verifica.values, 'r*-', label=\"Verifica\")\n",
    "ax[0].plot(range(5,51,5), resul.Entrena.values, 'b', label=\"Entrena\")\n",
    "ax[0].legend()\n",
    "ax[0].grid()\n",
    "ax[1].plot(range(5,51,5), resul['T_Ejecución'].values, 'r', label=\"Tiempo de Ejecución\")\n",
    "ax[1].legend()\n",
    "ax[1].grid()"
   ]
  },
  {
   "cell_type": "code",
   "execution_count": null,
   "metadata": {},
   "outputs": [],
   "source": []
  }
 ],
 "metadata": {
  "kernelspec": {
   "display_name": "Python 3 (ipykernel)",
   "language": "python",
   "name": "python3"
  },
  "language_info": {
   "codemirror_mode": {
    "name": "ipython",
    "version": 3
   },
   "file_extension": ".py",
   "mimetype": "text/x-python",
   "name": "python",
   "nbconvert_exporter": "python",
   "pygments_lexer": "ipython3",
   "version": "3.11.5"
  }
 },
 "nbformat": 4,
 "nbformat_minor": 4
}
