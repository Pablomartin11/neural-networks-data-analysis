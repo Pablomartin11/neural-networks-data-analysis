{
 "cells": [
  {
   "cell_type": "markdown",
   "metadata": {},
   "source": [
    "## **_PRÁCTICA 11  -  TAA_**\n",
    "_Pablo Martín de Benito_\n",
    "***"
   ]
  },
  {
   "cell_type": "code",
   "execution_count": 1,
   "metadata": {},
   "outputs": [],
   "source": [
    "from scipy.spatial.distance import cdist\n",
    "from sklearn.metrics.pairwise import euclidean_distances\n",
    "import numpy as np\n",
    "from sklearn.cluster import KMeans\n",
    "from statistics import mode\n",
    "from tqdm import tqdm\n",
    "from sklearn.model_selection import KFold\n",
    "from sklearn.preprocessing import MinMaxScaler\n",
    "import pandas as pd\n",
    "import time\n",
    "import warnings\n",
    "warnings.filterwarnings('ignore')"
   ]
  },
  {
   "cell_type": "markdown",
   "metadata": {},
   "source": [
    "Importar los datos"
   ]
  },
  {
   "cell_type": "code",
   "execution_count": 3,
   "metadata": {},
   "outputs": [],
   "source": [
    "from sklearn.datasets import load_breast_cancer\n",
    "data = load_breast_cancer()\n",
    "X = data.data\n",
    "scaler = MinMaxScaler().fit(X)\n",
    "X = scaler.transform(X)\n",
    "\n",
    "y = data.target\n",
    "y_array = np.array(y)\n"
   ]
  },
  {
   "cell_type": "markdown",
   "metadata": {},
   "source": [
    "### **Clase kmedias_moda**"
   ]
  },
  {
   "cell_type": "code",
   "execution_count": 4,
   "metadata": {},
   "outputs": [],
   "source": [
    "class kmedias_moda(object):\n",
    "    def __init__(self,n_clusters = 2):      # Como poco el número de clasters debe ser el número de atributos\n",
    "        self.k = n_clusters\n",
    "        self.kmedias = KMeans(n_clusters)\n",
    "\n",
    "    def fit(self, X_train, y_train):\n",
    "        self.kmedias.fit(X_train)\n",
    "        self.moda = np.zeros(self.k,dtype=int)-1\n",
    "        for c in range(self.k):\n",
    "            self.moda[c] = mode(y_train[self.kmedias.labels_ == c])\n",
    "\n",
    "    def predict(self,X_test):\n",
    "        return self.moda[self.kmedias.predict(X_test)]\n",
    "\n",
    "    def score(self,X_test,y_test):\n",
    "        return np.mean(self.predict(X_test) == y_test)\n"
   ]
  },
  {
   "cell_type": "code",
   "execution_count": 6,
   "metadata": {},
   "outputs": [],
   "source": [
    "resul = pd.DataFrame(index=range(2,30,1), columns = ('Entrena', 'Verifica','T_Ejecución'))\n",
    "resul.index_name = \"Tamaño\""
   ]
  },
  {
   "cell_type": "markdown",
   "metadata": {},
   "source": [
    "### **Validación Cruzada 10 particiones**"
   ]
  },
  {
   "cell_type": "code",
   "execution_count": 7,
   "metadata": {},
   "outputs": [
    {
     "name": "stderr",
     "output_type": "stream",
     "text": [
      "100%|██████████| 10/10 [00:00<00:00, 49.31it/s]\n"
     ]
    },
    {
     "name": "stdout",
     "output_type": "stream",
     "text": [
      "\n",
      "MEDIA:\n",
      "       Entrena  Verifica T. Ejecución\n",
      "Fold                                 \n",
      "0     0.939453  0.842105     0.053095\n",
      "1     0.935547  0.859649     0.016129\n",
      "2     0.935547  0.894737     0.015212\n",
      "3     0.929688  0.912281     0.015896\n",
      "4     0.929688  0.912281     0.016192\n",
      "5     0.919922  0.964912     0.016493\n",
      "6     0.919922  0.964912     0.015904\n",
      "7     0.923828  0.964912      0.01547\n",
      "8     0.921875  0.947368     0.015824\n",
      "9     0.920078  0.964286     0.017111\n",
      "\n",
      "Tiempo Total (seg) =  0.1973247528076172 \n",
      "\n"
     ]
    },
    {
     "name": "stderr",
     "output_type": "stream",
     "text": [
      "100%|██████████| 10/10 [00:00<00:00, 36.14it/s]\n"
     ]
    },
    {
     "name": "stdout",
     "output_type": "stream",
     "text": [
      "\n",
      "MEDIA:\n",
      "       Entrena  Verifica T. Ejecución\n",
      "Fold                                 \n",
      "0     0.902344  0.894737     0.026623\n",
      "1     0.910156  0.859649     0.028162\n",
      "2     0.908203  0.877193     0.054857\n",
      "3     0.908203  0.859649     0.027453\n",
      "4     0.900391  0.894737     0.023659\n",
      "5     0.896484  0.947368     0.019454\n",
      "6     0.896484  0.947368     0.019816\n",
      "7     0.892578  0.947368     0.020074\n",
      "8     0.910156  0.877193      0.02611\n",
      "9     0.898635  0.946429     0.025028\n",
      "\n",
      "Tiempo Total (seg) =  0.27123570442199707 \n",
      "\n"
     ]
    },
    {
     "name": "stderr",
     "output_type": "stream",
     "text": [
      "100%|██████████| 10/10 [00:00<00:00, 40.78it/s]\n"
     ]
    },
    {
     "name": "stdout",
     "output_type": "stream",
     "text": [
      "\n",
      "MEDIA:\n",
      "       Entrena  Verifica T. Ejecución\n",
      "Fold                                 \n",
      "0     0.896484  0.964912     0.028285\n",
      "1     0.857422  0.824561     0.028532\n",
      "2     0.921875  0.912281     0.024138\n",
      "3     0.917969  0.912281     0.025553\n",
      "4     0.917969  0.912281     0.023413\n",
      "5     0.916016  0.947368     0.022611\n",
      "6     0.917969  0.947368     0.021406\n",
      "7     0.914062  0.947368      0.02152\n",
      "8     0.929688  0.877193     0.021179\n",
      "9      0.91423  0.946429     0.023669\n",
      "\n",
      "Tiempo Total (seg) =  0.24030590057373047 \n",
      "\n"
     ]
    },
    {
     "name": "stderr",
     "output_type": "stream",
     "text": [
      "100%|██████████| 10/10 [00:00<00:00, 37.15it/s]\n"
     ]
    },
    {
     "name": "stdout",
     "output_type": "stream",
     "text": [
      "\n",
      "MEDIA:\n",
      "       Entrena  Verifica T. Ejecución\n",
      "Fold                                 \n",
      "0     0.917969  0.877193     0.029744\n",
      "1     0.933594  0.859649     0.027043\n",
      "2     0.927734  0.929825     0.025889\n",
      "3     0.925781  0.929825     0.025901\n",
      "4     0.914062  0.912281     0.028702\n",
      "5     0.925781  0.947368      0.02751\n",
      "6     0.916016  0.964912     0.026289\n",
      "7     0.919922  0.964912     0.026368\n",
      "8     0.931641  0.877193     0.024832\n",
      "9     0.920078  0.946429     0.021518\n",
      "\n",
      "Tiempo Total (seg) =  0.2637956142425537 \n",
      "\n"
     ]
    },
    {
     "name": "stderr",
     "output_type": "stream",
     "text": [
      "100%|██████████| 10/10 [00:00<00:00, 41.69it/s]\n"
     ]
    },
    {
     "name": "stdout",
     "output_type": "stream",
     "text": [
      "\n",
      "MEDIA:\n",
      "       Entrena  Verifica T. Ejecución\n",
      "Fold                                 \n",
      "0     0.921875  0.807018     0.029424\n",
      "1     0.888672  0.842105     0.026972\n",
      "2     0.890625  0.859649     0.020526\n",
      "3     0.933594  0.947368     0.021172\n",
      "4     0.927734  0.877193     0.020795\n",
      "5     0.880859  0.912281     0.025771\n",
      "6     0.884766  0.947368     0.021842\n",
      "7     0.884766  0.859649     0.020929\n",
      "8     0.876953  0.947368     0.023168\n",
      "9     0.873294  0.946429     0.024459\n",
      "\n",
      "Tiempo Total (seg) =  0.23505830764770508 \n",
      "\n"
     ]
    },
    {
     "name": "stderr",
     "output_type": "stream",
     "text": [
      "100%|██████████| 10/10 [00:00<00:00, 39.39it/s]\n"
     ]
    },
    {
     "name": "stdout",
     "output_type": "stream",
     "text": [
      "\n",
      "MEDIA:\n",
      "       Entrena  Verifica T. Ejecución\n",
      "Fold                                 \n",
      "0     0.892578  0.912281     0.029992\n",
      "1     0.931641  0.929825     0.028354\n",
      "2     0.904297  0.912281     0.023417\n",
      "3     0.914062  0.842105      0.02284\n",
      "4     0.900391  0.894737     0.026206\n",
      "5     0.916016  0.894737     0.021409\n",
      "6      0.90625  0.964912     0.022284\n",
      "7     0.910156  0.947368     0.024711\n",
      "8     0.894531  0.807018     0.023549\n",
      "9     0.896686     0.875     0.026154\n",
      "\n",
      "Tiempo Total (seg) =  0.2489159107208252 \n",
      "\n"
     ]
    },
    {
     "name": "stderr",
     "output_type": "stream",
     "text": [
      "100%|██████████| 10/10 [00:00<00:00, 34.65it/s]\n"
     ]
    },
    {
     "name": "stdout",
     "output_type": "stream",
     "text": [
      "\n",
      "MEDIA:\n",
      "       Entrena  Verifica T. Ejecución\n",
      "Fold                                 \n",
      "0     0.914062   0.77193     0.035654\n",
      "1     0.917969  0.877193     0.031551\n",
      "2     0.914062  0.877193     0.029272\n",
      "3      0.90625  0.824561     0.028296\n",
      "4     0.904297  0.894737     0.026528\n",
      "5     0.908203  0.929825     0.023356\n",
      "6     0.925781  0.947368     0.023655\n",
      "7      0.90625  0.894737     0.024571\n",
      "8     0.941406  0.982456     0.030007\n",
      "9     0.896686  0.946429     0.030718\n",
      "\n",
      "Tiempo Total (seg) =  0.28360772132873535 \n",
      "\n"
     ]
    },
    {
     "name": "stderr",
     "output_type": "stream",
     "text": [
      "100%|██████████| 10/10 [00:00<00:00, 33.76it/s]\n"
     ]
    },
    {
     "name": "stdout",
     "output_type": "stream",
     "text": [
      "\n",
      "MEDIA:\n",
      "       Entrena  Verifica T. Ejecución\n",
      "Fold                                 \n",
      "0     0.957031  0.877193     0.038115\n",
      "1     0.935547  0.947368     0.029965\n",
      "2     0.933594  0.947368     0.027718\n",
      "3     0.917969  0.824561     0.027504\n",
      "4       0.9375  0.894737      0.02781\n",
      "5     0.916016  0.947368     0.027144\n",
      "6     0.916016  0.912281     0.027254\n",
      "7     0.908203  0.859649     0.028975\n",
      "8     0.925781  0.824561     0.029141\n",
      "9     0.902534  0.892857      0.02776\n",
      "\n",
      "Tiempo Total (seg) =  0.29138684272766113 \n",
      "\n"
     ]
    },
    {
     "name": "stderr",
     "output_type": "stream",
     "text": [
      "100%|██████████| 10/10 [00:00<00:00, 26.68it/s]\n"
     ]
    },
    {
     "name": "stdout",
     "output_type": "stream",
     "text": [
      "\n",
      "MEDIA:\n",
      "       Entrena  Verifica T. Ejecución\n",
      "Fold                                 \n",
      "0     0.912109  0.964912     0.058106\n",
      "1     0.921875  0.877193     0.037564\n",
      "2     0.923828  0.894737     0.035502\n",
      "3     0.931641  0.824561     0.036171\n",
      "4     0.914062  0.859649     0.033145\n",
      "5     0.914062  0.947368      0.03355\n",
      "6     0.935547  0.929825      0.03391\n",
      "7     0.927734  0.929825     0.035086\n",
      "8     0.939453  0.842105     0.033619\n",
      "9     0.957115  0.964286     0.032313\n",
      "\n",
      "Tiempo Total (seg) =  0.36896729469299316 \n",
      "\n"
     ]
    },
    {
     "name": "stderr",
     "output_type": "stream",
     "text": [
      "100%|██████████| 10/10 [00:00<00:00, 31.99it/s]\n"
     ]
    },
    {
     "name": "stdout",
     "output_type": "stream",
     "text": [
      "\n",
      "MEDIA:\n",
      "       Entrena  Verifica T. Ejecución\n",
      "Fold                                 \n",
      "0     0.955078  0.824561      0.03845\n",
      "1     0.929688  0.929825      0.03081\n",
      "2     0.951172  0.947368     0.026557\n",
      "3     0.927734  0.877193     0.027815\n",
      "4     0.914062  0.894737     0.036317\n",
      "5     0.919922  0.947368     0.032591\n",
      "6     0.931641  0.929825     0.028967\n",
      "7     0.933594  0.877193     0.028941\n",
      "8     0.933594  0.894737     0.029968\n",
      "9     0.959064  0.982143     0.027671\n",
      "\n",
      "Tiempo Total (seg) =  0.3080873489379883 \n",
      "\n"
     ]
    },
    {
     "name": "stderr",
     "output_type": "stream",
     "text": [
      "100%|██████████| 10/10 [00:00<00:00, 29.70it/s]\n"
     ]
    },
    {
     "name": "stdout",
     "output_type": "stream",
     "text": [
      "\n",
      "MEDIA:\n",
      "       Entrena  Verifica T. Ejecución\n",
      "Fold                                 \n",
      "0     0.941406  0.807018      0.03823\n",
      "1       0.9375  0.859649     0.036244\n",
      "2     0.943359  0.929825     0.035512\n",
      "3     0.921875  0.789474     0.038554\n",
      "4     0.955078  0.947368     0.034143\n",
      "5     0.939453  0.929825     0.028542\n",
      "6     0.947266  0.982456     0.033303\n",
      "7     0.941406  0.894737     0.029093\n",
      "8     0.935547  0.912281     0.027726\n",
      "9     0.945419  0.946429     0.029779\n",
      "\n",
      "Tiempo Total (seg) =  0.331127405166626 \n",
      "\n"
     ]
    },
    {
     "name": "stderr",
     "output_type": "stream",
     "text": [
      "100%|██████████| 10/10 [00:00<00:00, 30.60it/s]\n"
     ]
    },
    {
     "name": "stdout",
     "output_type": "stream",
     "text": [
      "\n",
      "MEDIA:\n",
      "       Entrena  Verifica T. Ejecución\n",
      "Fold                                 \n",
      "0     0.951172  0.912281     0.042421\n",
      "1     0.927734  0.929825     0.035222\n",
      "2     0.939453  0.947368     0.030331\n",
      "3     0.951172  0.894737     0.032698\n",
      "4     0.912109  0.912281     0.027671\n",
      "5     0.953125  0.982456      0.02948\n",
      "6       0.9375  0.982456     0.029428\n",
      "7     0.957031  0.947368     0.034333\n",
      "8     0.945312  0.912281     0.028606\n",
      "9     0.951267  0.946429     0.031626\n",
      "\n",
      "Tiempo Total (seg) =  0.32181763648986816 \n",
      "\n"
     ]
    },
    {
     "name": "stderr",
     "output_type": "stream",
     "text": [
      "100%|██████████| 10/10 [00:00<00:00, 30.60it/s]\n"
     ]
    },
    {
     "name": "stdout",
     "output_type": "stream",
     "text": [
      "\n",
      "MEDIA:\n",
      "       Entrena  Verifica T. Ejecución\n",
      "Fold                                 \n",
      "0     0.955078  0.824561     0.039965\n",
      "1     0.958984  0.894737     0.033839\n",
      "2     0.933594  0.929825     0.029894\n",
      "3     0.962891  0.947368     0.032272\n",
      "4     0.947266  0.964912     0.028884\n",
      "5     0.941406  0.964912     0.028984\n",
      "6     0.949219  0.982456     0.030328\n",
      "7     0.953125  0.982456     0.039189\n",
      "8     0.933594  0.894737     0.029833\n",
      "9     0.955166  0.946429     0.029208\n",
      "\n",
      "Tiempo Total (seg) =  0.32239723205566406 \n",
      "\n"
     ]
    },
    {
     "name": "stderr",
     "output_type": "stream",
     "text": [
      "100%|██████████| 10/10 [00:00<00:00, 30.39it/s]\n"
     ]
    },
    {
     "name": "stdout",
     "output_type": "stream",
     "text": [
      "\n",
      "MEDIA:\n",
      "       Entrena  Verifica T. Ejecución\n",
      "Fold                                 \n",
      "0      0.96875  0.877193     0.038686\n",
      "1     0.955078  0.929825     0.033879\n",
      "2     0.939453  0.929825     0.030133\n",
      "3     0.935547  0.807018     0.033311\n",
      "4     0.933594  0.929825     0.031326\n",
      "5     0.939453  0.929825     0.030901\n",
      "6     0.921875  0.947368     0.031075\n",
      "7     0.931641  0.894737     0.030423\n",
      "8     0.943359  0.964912     0.031497\n",
      "9     0.947368  0.964286     0.033491\n",
      "\n",
      "Tiempo Total (seg) =  0.3247225284576416 \n",
      "\n"
     ]
    },
    {
     "name": "stderr",
     "output_type": "stream",
     "text": [
      "100%|██████████| 10/10 [00:00<00:00, 29.31it/s]\n"
     ]
    },
    {
     "name": "stdout",
     "output_type": "stream",
     "text": [
      "\n",
      "MEDIA:\n",
      "       Entrena  Verifica T. Ejecución\n",
      "Fold                                 \n",
      "0     0.943359  0.859649      0.03701\n",
      "1     0.931641  0.964912     0.035417\n",
      "2     0.941406  0.947368     0.032532\n",
      "3     0.941406  0.912281     0.034963\n",
      "4     0.949219  0.947368      0.03164\n",
      "5     0.966797  0.947368     0.031695\n",
      "6     0.943359  0.964912     0.033444\n",
      "7     0.951172  0.964912     0.034471\n",
      "8     0.933594  0.947368     0.030874\n",
      "9     0.955166  0.910714     0.034094\n",
      "\n",
      "Tiempo Total (seg) =  0.33614039421081543 \n",
      "\n"
     ]
    },
    {
     "name": "stderr",
     "output_type": "stream",
     "text": [
      "100%|██████████| 10/10 [00:00<00:00, 25.09it/s]\n"
     ]
    },
    {
     "name": "stdout",
     "output_type": "stream",
     "text": [
      "\n",
      "MEDIA:\n",
      "       Entrena  Verifica T. Ejecución\n",
      "Fold                                 \n",
      "0     0.960938  0.947368     0.072143\n",
      "1     0.958984  0.947368      0.03559\n",
      "2     0.958984  0.947368     0.037255\n",
      "3     0.929688  0.947368     0.035815\n",
      "4     0.960938  0.947368     0.035393\n",
      "5      0.90625  0.947368     0.039139\n",
      "6     0.957031  0.964912     0.034055\n",
      "7     0.939453  0.982456     0.035328\n",
      "8     0.947266  0.877193     0.034876\n",
      "9     0.949318  0.964286     0.033588\n",
      "\n",
      "Tiempo Total (seg) =  0.39318227767944336 \n",
      "\n"
     ]
    },
    {
     "name": "stderr",
     "output_type": "stream",
     "text": [
      "100%|██████████| 10/10 [00:00<00:00, 26.23it/s]\n"
     ]
    },
    {
     "name": "stdout",
     "output_type": "stream",
     "text": [
      "\n",
      "MEDIA:\n",
      "       Entrena  Verifica T. Ejecución\n",
      "Fold                                 \n",
      "0     0.951172  0.912281     0.046262\n",
      "1     0.939453  0.947368     0.036626\n",
      "2     0.941406  0.947368     0.035507\n",
      "3     0.958984  0.964912     0.039447\n",
      "4     0.951172  0.929825     0.034738\n",
      "5     0.933594  0.982456     0.037257\n",
      "6       0.9375  0.964912     0.037938\n",
      "7     0.947266  0.964912     0.034933\n",
      "8     0.955078  0.947368     0.035727\n",
      "9     0.959064  0.982143     0.037509\n",
      "\n",
      "Tiempo Total (seg) =  0.375943660736084 \n",
      "\n"
     ]
    },
    {
     "name": "stderr",
     "output_type": "stream",
     "text": [
      "100%|██████████| 10/10 [00:00<00:00, 25.93it/s]\n"
     ]
    },
    {
     "name": "stdout",
     "output_type": "stream",
     "text": [
      "\n",
      "MEDIA:\n",
      "       Entrena  Verifica T. Ejecución\n",
      "Fold                                 \n",
      "0     0.955078  0.824561     0.044901\n",
      "1     0.960938  0.947368     0.038923\n",
      "2     0.931641  0.912281     0.035488\n",
      "3     0.941406  0.947368     0.039128\n",
      "4     0.951172  0.964912       0.0365\n",
      "5     0.951172  0.982456     0.035992\n",
      "6     0.941406  0.982456     0.037671\n",
      "7     0.958984  0.929825     0.035638\n",
      "8     0.955078  0.929825     0.036712\n",
      "9     0.957115  0.964286     0.038651\n",
      "\n",
      "Tiempo Total (seg) =  0.37960171699523926 \n",
      "\n"
     ]
    },
    {
     "name": "stderr",
     "output_type": "stream",
     "text": [
      "100%|██████████| 10/10 [00:00<00:00, 25.37it/s]\n"
     ]
    },
    {
     "name": "stdout",
     "output_type": "stream",
     "text": [
      "\n",
      "MEDIA:\n",
      "       Entrena  Verifica T. Ejecución\n",
      "Fold                                 \n",
      "0     0.955078  0.964912     0.047874\n",
      "1      0.96875  0.947368     0.037127\n",
      "2     0.947266  0.964912     0.036368\n",
      "3     0.931641  0.894737     0.041011\n",
      "4     0.957031  0.964912     0.038223\n",
      "5     0.949219  0.947368     0.038108\n",
      "6     0.931641  0.964912     0.040431\n",
      "7     0.949219  0.982456     0.035444\n",
      "8     0.935547  0.964912     0.034996\n",
      "9     0.947368  0.928571     0.039302\n",
      "\n",
      "Tiempo Total (seg) =  0.3888845443725586 \n",
      "\n"
     ]
    },
    {
     "name": "stderr",
     "output_type": "stream",
     "text": [
      "100%|██████████| 10/10 [00:00<00:00, 23.94it/s]\n"
     ]
    },
    {
     "name": "stdout",
     "output_type": "stream",
     "text": [
      "\n",
      "MEDIA:\n",
      "       Entrena  Verifica T. Ejecución\n",
      "Fold                                 \n",
      "0     0.964844  0.929825     0.052103\n",
      "1     0.962891  0.947368     0.045819\n",
      "2     0.949219  0.964912     0.038965\n",
      "3     0.947266  0.894737      0.04032\n",
      "4     0.957031  0.964912     0.037763\n",
      "5     0.958984  0.964912     0.040121\n",
      "6     0.949219  0.982456      0.03976\n",
      "7     0.941406  0.929825     0.039118\n",
      "8     0.947266  0.929825      0.03702\n",
      "9     0.945419  0.892857     0.041154\n",
      "\n",
      "Tiempo Total (seg) =  0.4121427536010742 \n",
      "\n"
     ]
    },
    {
     "name": "stderr",
     "output_type": "stream",
     "text": [
      "100%|██████████| 10/10 [00:00<00:00, 20.76it/s]\n"
     ]
    },
    {
     "name": "stdout",
     "output_type": "stream",
     "text": [
      "\n",
      "MEDIA:\n",
      "       Entrena  Verifica T. Ejecución\n",
      "Fold                                 \n",
      "0       0.9375  0.947368     0.052523\n",
      "1     0.960938  0.929825      0.04576\n",
      "2       0.9375  0.947368     0.046092\n",
      "3     0.951172  0.982456     0.045815\n",
      "4     0.943359  0.929825     0.045846\n",
      "5     0.939453  0.929825     0.045476\n",
      "6     0.955078  0.982456     0.049126\n",
      "7     0.958984  0.947368     0.046054\n",
      "8     0.955078  0.947368     0.048172\n",
      "9     0.962963  0.946429      0.05052\n",
      "\n",
      "Tiempo Total (seg) =  0.4753835201263428 \n",
      "\n"
     ]
    },
    {
     "name": "stderr",
     "output_type": "stream",
     "text": [
      "100%|██████████| 10/10 [00:00<00:00, 22.01it/s]\n"
     ]
    },
    {
     "name": "stdout",
     "output_type": "stream",
     "text": [
      "\n",
      "MEDIA:\n",
      "       Entrena  Verifica T. Ejecución\n",
      "Fold                                 \n",
      "0     0.949219  0.912281     0.052454\n",
      "1     0.958984  0.964912     0.048822\n",
      "2     0.947266  0.964912     0.048132\n",
      "3     0.941406  0.912281     0.047994\n",
      "4     0.941406  0.947368     0.043772\n",
      "5     0.955078  0.982456     0.042525\n",
      "6       0.9375  0.964912     0.039985\n",
      "7     0.941406  0.929825     0.039324\n",
      "8     0.945312  0.982456     0.041345\n",
      "9     0.962963  0.928571     0.044291\n",
      "\n",
      "Tiempo Total (seg) =  0.44864368438720703 \n",
      "\n"
     ]
    },
    {
     "name": "stderr",
     "output_type": "stream",
     "text": [
      "100%|██████████| 10/10 [00:00<00:00, 18.17it/s]\n"
     ]
    },
    {
     "name": "stdout",
     "output_type": "stream",
     "text": [
      "\n",
      "MEDIA:\n",
      "       Entrena  Verifica T. Ejecución\n",
      "Fold                                 \n",
      "0     0.949219  0.912281     0.084457\n",
      "1     0.960938  0.964912     0.043535\n",
      "2     0.957031  0.964912     0.052169\n",
      "3     0.945312  0.877193     0.047542\n",
      "4     0.939453  0.929825      0.05384\n",
      "5     0.955078  0.964912     0.051668\n",
      "6     0.949219  0.982456     0.053587\n",
      "7     0.927734  0.894737     0.051602\n",
      "8     0.947266  0.982456     0.052813\n",
      "9     0.962963  0.982143     0.052346\n",
      "\n",
      "Tiempo Total (seg) =  0.5435569286346436 \n",
      "\n"
     ]
    },
    {
     "name": "stderr",
     "output_type": "stream",
     "text": [
      "100%|██████████| 10/10 [00:00<00:00, 20.45it/s]\n"
     ]
    },
    {
     "name": "stdout",
     "output_type": "stream",
     "text": [
      "\n",
      "MEDIA:\n",
      "       Entrena  Verifica T. Ejecución\n",
      "Fold                                 \n",
      "0     0.957031  0.912281     0.057884\n",
      "1     0.943359  0.912281      0.04835\n",
      "2     0.955078  0.964912      0.04954\n",
      "3     0.957031  0.947368     0.042783\n",
      "4     0.951172  0.947368     0.047767\n",
      "5     0.945312  0.964912     0.056855\n",
      "6     0.949219  0.982456     0.044159\n",
      "7     0.945312  0.964912      0.04142\n",
      "8     0.957031  0.912281      0.04411\n",
      "9     0.957115  0.982143      0.04355\n",
      "\n",
      "Tiempo Total (seg) =  0.47641825675964355 \n",
      "\n"
     ]
    },
    {
     "name": "stderr",
     "output_type": "stream",
     "text": [
      "100%|██████████| 10/10 [00:00<00:00, 20.91it/s]\n"
     ]
    },
    {
     "name": "stdout",
     "output_type": "stream",
     "text": [
      "\n",
      "MEDIA:\n",
      "       Entrena  Verifica T. Ejecución\n",
      "Fold                                 \n",
      "0     0.947266  0.877193     0.054497\n",
      "1     0.947266  0.947368     0.044273\n",
      "2     0.957031  0.947368     0.044974\n",
      "3     0.960938  0.964912     0.045371\n",
      "4     0.949219  0.947368     0.045132\n",
      "5     0.939453  0.964912     0.041175\n",
      "6     0.964844  0.982456     0.046748\n",
      "7     0.949219  0.964912     0.042632\n",
      "8     0.960938  0.964912      0.05451\n",
      "9     0.955166  0.964286     0.053551\n",
      "\n",
      "Tiempo Total (seg) =  0.47286343574523926 \n",
      "\n"
     ]
    },
    {
     "name": "stderr",
     "output_type": "stream",
     "text": [
      "100%|██████████| 10/10 [00:00<00:00, 19.53it/s]\n"
     ]
    },
    {
     "name": "stdout",
     "output_type": "stream",
     "text": [
      "\n",
      "MEDIA:\n",
      "       Entrena  Verifica T. Ejecución\n",
      "Fold                                 \n",
      "0     0.939453  0.894737     0.060318\n",
      "1     0.949219  0.894737     0.045076\n",
      "2     0.958984  0.982456     0.055734\n",
      "3     0.958984  0.964912     0.051462\n",
      "4     0.957031  0.947368     0.050346\n",
      "5     0.949219  0.964912     0.045029\n",
      "6       0.9375  0.982456     0.045968\n",
      "7     0.957031  0.912281     0.054347\n",
      "8     0.943359  0.982456     0.044459\n",
      "9     0.951267  0.928571     0.053634\n",
      "\n",
      "Tiempo Total (seg) =  0.5063729286193848 \n",
      "\n"
     ]
    },
    {
     "name": "stderr",
     "output_type": "stream",
     "text": [
      "100%|██████████| 10/10 [00:00<00:00, 18.20it/s]\n"
     ]
    },
    {
     "name": "stdout",
     "output_type": "stream",
     "text": [
      "\n",
      "MEDIA:\n",
      "       Entrena  Verifica T. Ejecución\n",
      "Fold                                 \n",
      "0     0.955078  0.842105     0.068102\n",
      "1     0.960938  0.947368     0.046503\n",
      "2     0.955078  0.964912     0.057343\n",
      "3     0.958984  0.964912     0.055951\n",
      "4     0.941406  0.947368     0.056169\n",
      "5     0.951172  0.982456     0.054137\n",
      "6     0.951172  0.982456     0.054058\n",
      "7     0.949219  0.912281     0.047018\n",
      "8     0.947266  0.929825     0.051591\n",
      "9     0.951267  0.946429     0.052013\n",
      "\n",
      "Tiempo Total (seg) =  0.5428853034973145 \n",
      "\n"
     ]
    },
    {
     "name": "stderr",
     "output_type": "stream",
     "text": [
      "100%|██████████| 10/10 [00:00<00:00, 17.39it/s]"
     ]
    },
    {
     "name": "stdout",
     "output_type": "stream",
     "text": [
      "\n",
      "MEDIA:\n",
      "       Entrena  Verifica T. Ejecución\n",
      "Fold                                 \n",
      "0     0.957031  0.912281     0.087342\n",
      "1       0.9375  0.964912      0.05783\n",
      "2     0.957031  0.947368     0.058985\n",
      "3     0.960938  0.947368     0.056009\n",
      "4     0.958984  0.964912     0.055641\n",
      "5     0.953125  0.964912     0.050633\n",
      "6     0.949219  0.982456     0.049756\n",
      "7     0.955078  0.982456     0.049045\n",
      "8     0.949219  0.964912     0.053539\n",
      "9     0.959064  0.946429     0.050221\n",
      "\n",
      "Tiempo Total (seg) =  0.569002628326416 \n",
      "\n"
     ]
    },
    {
     "name": "stderr",
     "output_type": "stream",
     "text": [
      "\n"
     ]
    }
   ],
   "source": [
    "K = 10\n",
    "kf = KFold(n_splits=K)\n",
    "tamaños = np.arange(2,30,1) \n",
    "for tam in tamaños:\n",
    "    r_clf = pd.DataFrame(columns=['Entrena','Verifica','T. Ejecución'])\n",
    "    k = 0\n",
    "    for train_index, test_index in tqdm(kf.split(X),total = kf.get_n_splits(X)):\n",
    "            start_time = time.time()\n",
    "            \n",
    "            clf = kmedias_moda(tam)\n",
    "            X_train = X[train_index,:]\n",
    "            y_train = y[train_index]\n",
    "            X_test = X[test_index,:]\n",
    "            y_test = y[test_index]\n",
    "\n",
    "            clf.fit(X_train, y_train)\n",
    "            entrena = clf.score(X_train, y_train)\n",
    "            verifica = clf.score(X_test, y_test)\n",
    "\n",
    "            end_time = time.time()\n",
    "            ejecucion = end_time - start_time\n",
    "\n",
    "            r_clf.loc[k,:] = [entrena,verifica,ejecucion]\n",
    "\n",
    "            k += 1\n",
    "    r_clf.index.name = \"Fold\"\n",
    "\n",
    "    print(\"\\nMEDIA:\")\n",
    "    print(r_clf)\n",
    "    mEntrena = np.mean(r_clf['Entrena'])\n",
    "    mVerifica = np.mean(r_clf['Verifica'])\n",
    "    mTiempo = np.mean(r_clf['T. Ejecución'])\n",
    "    print(\"\\nTiempo Total (seg) = \", r_clf['T. Ejecución'].sum(),\"\\n\")\n",
    "    resul.loc[tam,:] = [mEntrena,mVerifica,mTiempo]\n"
   ]
  },
  {
   "cell_type": "code",
   "execution_count": 8,
   "metadata": {},
   "outputs": [
    {
     "name": "stdout",
     "output_type": "stream",
     "text": [
      "Tamaño Óptimo =   29\n",
      "Tamaño más rápido =   2 \n",
      "\n",
      "     Entrena  Verifica T_Ejecución\n",
      "2   0.927555  0.922744    0.019732\n",
      "3   0.902364  0.905169    0.027124\n",
      "4   0.910368  0.919204    0.024031\n",
      "5   0.923258  0.920959     0.02638\n",
      "6   0.896314  0.894643    0.023506\n",
      "7   0.906661  0.898026    0.024892\n",
      "8   0.913497  0.894643    0.028361\n",
      "9   0.925019  0.892794    0.029139\n",
      "10  0.927743  0.903446    0.036897\n",
      "11  0.935555  0.910495    0.030809\n",
      "12  0.940831  0.899906    0.033113\n",
      "13  0.942588  0.936748    0.032182\n",
      "14  0.949032  0.933239     0.03224\n",
      "15  0.941612  0.917481    0.032472\n",
      "16  0.945712  0.936685    0.033614\n",
      "17  0.946885  0.947306    0.039318\n",
      "18  0.947469  0.954355    0.037594\n",
      "19  0.950399  0.938534     0.03796\n",
      "20  0.947276  0.952506    0.038888\n",
      "21  0.952354  0.940163    0.041214\n",
      "22  0.950203  0.949029    0.047538\n",
      "23  0.948054  0.948997    0.044864\n",
      "24  0.949421  0.945583    0.054356\n",
      "25  0.951766  0.949091    0.047642\n",
      "26  0.953134  0.952569    0.047286\n",
      "27  0.950205  0.945489    0.050637\n",
      "28  0.952158  0.942011    0.054289\n",
      "29  0.953719  0.957801      0.0569\n"
     ]
    }
   ],
   "source": [
    "print(\"Tamaño Óptimo =  \", resul.index[np.argmax(resul.Verifica.values)])\n",
    "print(\"Tamaño más rápido =  \", resul.index[np.argmin(resul['T_Ejecución'].values)],\"\\n\")\n",
    "print(resul)"
   ]
  },
  {
   "cell_type": "code",
   "execution_count": 9,
   "metadata": {},
   "outputs": [
    {
     "data": {
      "text/plain": [
       "Text(0.5, 1.0, 'K-MEANS: Dataset CANCER. Criterium: MODE')"
      ]
     },
     "execution_count": 9,
     "metadata": {},
     "output_type": "execute_result"
    },
    {
     "data": {
      "image/png": "[encoded data removed]",
      "text/plain": [
       "<Figure size 1000x600 with 1 Axes>"
      ]
     },
     "metadata": {},
     "output_type": "display_data"
    }
   ],
   "source": [
    "import matplotlib.pyplot as plt\n",
    "\n",
    "plt.figure(figsize=(10,6))\n",
    "plt.plot(range(2,30,1), resul.Entrena.values, label=\"Entrena\")\n",
    "plt.plot(range(2,30,1), resul.Verifica.values, label=\"Verifica\")\n",
    "plt.legend()\n",
    "plt.grid()\n",
    "plt.xlabel(\"n_clusters\")\n",
    "plt.ylabel(\"accuracy\")\n",
    "plt.title(\"K-MEANS: Dataset CANCER. Criterium: MODE\")"
   ]
  },
  {
   "cell_type": "markdown",
   "metadata": {},
   "source": [
    "### _**Support Vector Machine**_"
   ]
  },
  {
   "cell_type": "code",
   "execution_count": 25,
   "metadata": {},
   "outputs": [],
   "source": [
    "from sklearn.svm import SVC"
   ]
  },
  {
   "cell_type": "code",
   "execution_count": 26,
   "metadata": {},
   "outputs": [],
   "source": [
    "class oculta_rbf(object):\n",
    "    def __init__(self,n_clusters):\n",
    "        self.k = n_clusters\n",
    "        self.kmedias = KMeans(n_clusters=n_clusters)\n",
    "\n",
    "    def fit(self,X_train):\n",
    "        self.kmedias.fit(X_train)\n",
    "        self.baricentros = self.kmedias.cluster_centers_\n",
    "        d = euclidean_distances(self.baricentros)\n",
    "        self.sigma = np.sum(d) / (d.shape[0]-1)\n",
    "        \n",
    "    def predict(self,X_test):\n",
    "        return np.exp((-euclidean_distances(X_test, self.baricentros)**2)/(2*(self.sigma**2)))\n",
    "    \n"
   ]
  },
  {
   "cell_type": "code",
   "execution_count": 27,
   "metadata": {},
   "outputs": [],
   "source": [
    "aciertos_svm = pd.DataFrame(index=range(2,10,1), columns = ['Aciertos'])\n",
    "aciertos_svm.index.name = \"Grados\""
   ]
  },
  {
   "cell_type": "code",
   "execution_count": 34,
   "metadata": {},
   "outputs": [
    {
     "name": "stderr",
     "output_type": "stream",
     "text": [
      "100%|██████████| 10/10 [00:02<00:00,  3.78it/s]\n"
     ]
    },
    {
     "name": "stdout",
     "output_type": "stream",
     "text": [
      "Tasa de aciertos: \t 0.9648496240601501\n"
     ]
    },
    {
     "name": "stderr",
     "output_type": "stream",
     "text": [
      "100%|██████████| 10/10 [00:02<00:00,  3.62it/s]\n"
     ]
    },
    {
     "name": "stdout",
     "output_type": "stream",
     "text": [
      "Tasa de aciertos: \t 0.96312656641604\n"
     ]
    },
    {
     "name": "stderr",
     "output_type": "stream",
     "text": [
      "100%|██████████| 10/10 [00:04<00:00,  2.42it/s]\n"
     ]
    },
    {
     "name": "stdout",
     "output_type": "stream",
     "text": [
      "Tasa de aciertos: \t 0.9701127819548871\n"
     ]
    },
    {
     "name": "stderr",
     "output_type": "stream",
     "text": [
      "100%|██████████| 10/10 [00:06<00:00,  1.54it/s]\n"
     ]
    },
    {
     "name": "stdout",
     "output_type": "stream",
     "text": [
      "Tasa de aciertos: \t 0.9560463659147869\n"
     ]
    },
    {
     "name": "stderr",
     "output_type": "stream",
     "text": [
      "100%|██████████| 10/10 [00:05<00:00,  1.72it/s]\n"
     ]
    },
    {
     "name": "stdout",
     "output_type": "stream",
     "text": [
      "Tasa de aciertos: \t 0.9507832080200501\n"
     ]
    },
    {
     "name": "stderr",
     "output_type": "stream",
     "text": [
      "100%|██████████| 10/10 [00:06<00:00,  1.54it/s]\n"
     ]
    },
    {
     "name": "stdout",
     "output_type": "stream",
     "text": [
      "Tasa de aciertos: \t 0.9525375939849624\n"
     ]
    },
    {
     "name": "stderr",
     "output_type": "stream",
     "text": [
      "100%|██████████| 10/10 [00:06<00:00,  1.59it/s]\n"
     ]
    },
    {
     "name": "stdout",
     "output_type": "stream",
     "text": [
      "Tasa de aciertos: \t 0.9455513784461151\n"
     ]
    },
    {
     "name": "stderr",
     "output_type": "stream",
     "text": [
      "100%|██████████| 10/10 [00:06<00:00,  1.56it/s]"
     ]
    },
    {
     "name": "stdout",
     "output_type": "stream",
     "text": [
      "Tasa de aciertos: \t 0.9525375939849623\n"
     ]
    },
    {
     "name": "stderr",
     "output_type": "stream",
     "text": [
      "\n"
     ]
    }
   ],
   "source": [
    "# Validación Cruzada con el óptimo de clusters\n",
    "for grad in range(2,10):\n",
    "    aciertos = 0\n",
    "    SVC(degree=grad,kernel='poly')\n",
    "    K = 10\n",
    "    kf = KFold(n_splits=K)\n",
    "    r_clf = pd.DataFrame(columns=['Entrena','Verifica','T. Ejecución'])\n",
    "    for train_index, test_index in tqdm(kf.split(X),total = kf.get_n_splits(X)):\n",
    "            oculta = oculta_rbf(29)        # optimo\n",
    "\n",
    "            X_train = X[train_index,:]\n",
    "            y_train = y[train_index]\n",
    "            X_test = X[test_index,:]\n",
    "            y_test = y[test_index]\n",
    "\n",
    "            oculta.fit(X_train)\n",
    "\n",
    "            X_svm_train = oculta.predict(X_train)\n",
    "            X_svm_test = oculta.predict(X_test)\n",
    "\n",
    "            escaler = MinMaxScaler()\n",
    "            escaler.fit(X_svm_train, X_svm_test)\n",
    "            \n",
    "            X_svm_train = escaler.transform(X_svm_train)\n",
    "            X_svm_test = escaler.transform(X_svm_test)            \n",
    "\n",
    "            svm = SVC(kernel='poly', degree=grad, verbose=False)\n",
    "            svm.fit(X_svm_train,y_train)\n",
    "            aciertos += svm.score(X_svm_test,y_test)\n",
    "    \n",
    "    aciertos = aciertos/10\n",
    "    print(\"Tasa de aciertos: \\t\",aciertos)\n",
    "    aciertos_svm.loc[grad] = aciertos\n",
    "\n"
   ]
  },
  {
   "cell_type": "code",
   "execution_count": 35,
   "metadata": {},
   "outputs": [
    {
     "data": {
      "text/html": [
       "<div>\n",
       "<style scoped>\n",
       "    .dataframe tbody tr th:only-of-type {\n",
       "        vertical-align: middle;\n",
       "    }\n",
       "\n",
       "    .dataframe tbody tr th {\n",
       "        vertical-align: top;\n",
       "    }\n",
       "\n",
       "    .dataframe thead th {\n",
       "        text-align: right;\n",
       "    }\n",
       "</style>\n",
       "<table border=\"1\" class=\"dataframe\">\n",
       "  <thead>\n",
       "    <tr style=\"text-align: right;\">\n",
       "      <th></th>\n",
       "      <th>Aciertos</th>\n",
       "    </tr>\n",
       "    <tr>\n",
       "      <th>Grados</th>\n",
       "      <th></th>\n",
       "    </tr>\n",
       "  </thead>\n",
       "  <tbody>\n",
       "    <tr>\n",
       "      <th>2</th>\n",
       "      <td>0.96485</td>\n",
       "    </tr>\n",
       "    <tr>\n",
       "      <th>3</th>\n",
       "      <td>0.963127</td>\n",
       "    </tr>\n",
       "    <tr>\n",
       "      <th>4</th>\n",
       "      <td>0.970113</td>\n",
       "    </tr>\n",
       "    <tr>\n",
       "      <th>5</th>\n",
       "      <td>0.956046</td>\n",
       "    </tr>\n",
       "    <tr>\n",
       "      <th>6</th>\n",
       "      <td>0.950783</td>\n",
       "    </tr>\n",
       "    <tr>\n",
       "      <th>7</th>\n",
       "      <td>0.952538</td>\n",
       "    </tr>\n",
       "    <tr>\n",
       "      <th>8</th>\n",
       "      <td>0.945551</td>\n",
       "    </tr>\n",
       "    <tr>\n",
       "      <th>9</th>\n",
       "      <td>0.952538</td>\n",
       "    </tr>\n",
       "  </tbody>\n",
       "</table>\n",
       "</div>"
      ],
      "text/plain": [
       "        Aciertos\n",
       "Grados          \n",
       "2        0.96485\n",
       "3       0.963127\n",
       "4       0.970113\n",
       "5       0.956046\n",
       "6       0.950783\n",
       "7       0.952538\n",
       "8       0.945551\n",
       "9       0.952538"
      ]
     },
     "execution_count": 35,
     "metadata": {},
     "output_type": "execute_result"
    }
   ],
   "source": [
    "aciertos_svm"
   ]
  },
  {
   "cell_type": "code",
   "execution_count": 37,
   "metadata": {},
   "outputs": [
    {
     "data": {
      "text/plain": [
       "Text(0, 0.5, 'accuracy')"
      ]
     },
     "execution_count": 37,
     "metadata": {},
     "output_type": "execute_result"
    },
    {
     "data": {
      "image/png": "[encoded data removed]",
      "text/plain": [
       "<Figure size 1000x600 with 1 Axes>"
      ]
     },
     "metadata": {},
     "output_type": "display_data"
    }
   ],
   "source": [
    "plt.figure(figsize=(10,6))\n",
    "plt.plot(range(2,10,1), aciertos_svm.Aciertos.values)\n",
    "plt.grid()\n",
    "plt.xlabel(\"grados\")\n",
    "plt.ylabel(\"accuracy\")"
   ]
  },
  {
   "cell_type": "code",
   "execution_count": null,
   "metadata": {},
   "outputs": [],
   "source": []
  }
 ],
 "metadata": {
  "kernelspec": {
   "display_name": "Python 3 (ipykernel)",
   "language": "python",
   "name": "python3"
  },
  "language_info": {
   "codemirror_mode": {
    "name": "ipython",
    "version": 3
   },
   "file_extension": ".py",
   "mimetype": "text/x-python",
   "name": "python",
   "nbconvert_exporter": "python",
   "pygments_lexer": "ipython3",
   "version": "3.11.5"
  }
 },
 "nbformat": 4,
 "nbformat_minor": 4
}
